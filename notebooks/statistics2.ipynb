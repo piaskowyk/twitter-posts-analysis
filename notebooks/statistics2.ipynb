{
 "cells": [
  {
   "cell_type": "code",
   "execution_count": 9,
   "metadata": {
    "collapsed": false,
    "jupyter": {
     "outputs_hidden": false
    },
    "pycharm": {
     "name": "#%%\n"
    }
   },
   "outputs": [],
   "source": [
    "import calendar\n",
    "\n",
    "import psycopg2\n",
    "import psycopg2.extras\n",
    "import matplotlib.pyplot as plt\n",
    "import pandas as pd\n",
    "import numpy as np\n",
    "import math\n",
    "from matplotlib.pyplot import figure\n",
    "import dataframe_image as dfi"
   ]
  },
  {
   "cell_type": "code",
   "execution_count": 10,
   "metadata": {
    "collapsed": false,
    "jupyter": {
     "outputs_hidden": false
    },
    "pycharm": {
     "name": "#%%\n"
    }
   },
   "outputs": [],
   "source": [
    "connection = psycopg2.connect(\r\n",
    "    database=\"postgres\",\r\n",
    "    user=\"postgres\",\r\n",
    "    password=\"password\",\r\n",
    "    host=\"127.0.0.1\",\r\n",
    "    port=\"5432\"\r\n",
    ")\r\n",
    "db = connection.cursor(cursor_factory=psycopg2.extras.RealDictCursor)"
   ]
  },
  {
   "cell_type": "code",
   "execution_count": 11,
   "metadata": {
    "collapsed": false,
    "jupyter": {
     "outputs_hidden": false
    },
    "pycharm": {
     "name": "#%%\n"
    }
   },
   "outputs": [],
   "source": [
    "def getAll(query):\n",
    "    db.execute(query)\n",
    "    return pd.DataFrame(data=db.fetchall())"
   ]
  },
  {
   "cell_type": "code",
   "execution_count": 12,
   "metadata": {
    "collapsed": false,
    "jupyter": {
     "outputs_hidden": false
    },
    "pycharm": {
     "name": "#%%\n"
    }
   },
   "outputs": [
    {
     "name": "stdout",
     "output_type": "stream",
     "text": [
      "Jaki procent tweetów ma komentarze: 29.36%\n"
     ]
    },
    {
     "data": {
      "text/html": "<div>\n<style scoped>\n    .dataframe tbody tr th:only-of-type {\n        vertical-align: middle;\n    }\n\n    .dataframe tbody tr th {\n        vertical-align: top;\n    }\n\n    .dataframe thead th {\n        text-align: right;\n    }\n</style>\n<table border=\"1\" class=\"dataframe\">\n  <thead>\n    <tr style=\"text-align: right;\">\n      <th></th>\n      <th>Procent tweetów z komentarzami</th>\n    </tr>\n  </thead>\n  <tbody>\n    <tr>\n      <th>0</th>\n      <td>29.35585220442599328300</td>\n    </tr>\n  </tbody>\n</table>\n</div>",
      "text/plain": "  Procent tweetów z komentarzami\n0        29.35585220442599328300"
     },
     "execution_count": 12,
     "metadata": {},
     "output_type": "execute_result"
    }
   ],
   "source": [
    "result = getAll(\n",
    "    \"\"\"\n",
    "with tweet_count as (\n",
    "    select count(*)\n",
    "    from tweet\n",
    "    where type = 1)\n",
    "\n",
    "select cast(count(*) as decimal) / (select * from tweet_count) * 100 as \"Procent tweetów z komentarzami\"\n",
    "from tweet\n",
    "where type = 1\n",
    "  and reply_count > 0;\n",
    "   \"\"\"\n",
    ")\n",
    "\n",
    "print(f'Jaki procent tweetów ma komentarze: {result[\"Procent tweetów z komentarzami\"][0]:.4}%')\n",
    "dfi.export(result,\"images/tweety_z_komentarzami.png\")\n",
    "result\n"
   ]
  },
  {
   "cell_type": "code",
   "execution_count": 13,
   "metadata": {
    "collapsed": false,
    "jupyter": {
     "outputs_hidden": false
    },
    "pycharm": {
     "name": "#%%\n"
    }
   },
   "outputs": [
    {
     "name": "stdout",
     "output_type": "stream",
     "text": [
      "Jaki procent tweetów ma retweety: 23.44%\n"
     ]
    },
    {
     "data": {
      "text/html": "<div>\n<style scoped>\n    .dataframe tbody tr th:only-of-type {\n        vertical-align: middle;\n    }\n\n    .dataframe tbody tr th {\n        vertical-align: top;\n    }\n\n    .dataframe thead th {\n        text-align: right;\n    }\n</style>\n<table border=\"1\" class=\"dataframe\">\n  <thead>\n    <tr style=\"text-align: right;\">\n      <th></th>\n      <th>Procent tweetów z retweetami</th>\n    </tr>\n  </thead>\n  <tbody>\n    <tr>\n      <th>0</th>\n      <td>23.43956144822941468600</td>\n    </tr>\n  </tbody>\n</table>\n</div>",
      "text/plain": "  Procent tweetów z retweetami\n0      23.43956144822941468600"
     },
     "execution_count": 13,
     "metadata": {},
     "output_type": "execute_result"
    }
   ],
   "source": [
    "result = getAll(\n",
    "    \"\"\"\n",
    "with tweet_count as (\n",
    "    select count(*)\n",
    "    from tweet\n",
    "    where type = 1)\n",
    "\n",
    "select cast(count(*) as decimal) / (select * from tweet_count) * 100 as \"Procent tweetów z retweetami\"\n",
    "from tweet\n",
    "where type = 1\n",
    "  and retweet_count > 0;\n",
    "   \"\"\"\n",
    ")\n",
    "\n",
    "print(f'Jaki procent tweetów ma retweety: {result[\"Procent tweetów z retweetami\"][0]:.4}%')\n",
    "dfi.export(result,\"images/tweety_z_retweetami.png\")\n",
    "result"
   ]
  },
  {
   "cell_type": "code",
   "execution_count": 14,
   "metadata": {
    "collapsed": false,
    "jupyter": {
     "outputs_hidden": false
    },
    "pycharm": {
     "name": "#%%\n"
    }
   },
   "outputs": [
    {
     "name": "stdout",
     "output_type": "stream",
     "text": [
      "Jaki procent tweetów ma polubienia: 48.90%\n"
     ]
    },
    {
     "data": {
      "text/html": "<div>\n<style scoped>\n    .dataframe tbody tr th:only-of-type {\n        vertical-align: middle;\n    }\n\n    .dataframe tbody tr th {\n        vertical-align: top;\n    }\n\n    .dataframe thead th {\n        text-align: right;\n    }\n</style>\n<table border=\"1\" class=\"dataframe\">\n  <thead>\n    <tr style=\"text-align: right;\">\n      <th></th>\n      <th>Procent tweetów z polubieniami</th>\n    </tr>\n  </thead>\n  <tbody>\n    <tr>\n      <th>0</th>\n      <td>48.90107702635004296400</td>\n    </tr>\n  </tbody>\n</table>\n</div>",
      "text/plain": "  Procent tweetów z polubieniami\n0        48.90107702635004296400"
     },
     "execution_count": 14,
     "metadata": {},
     "output_type": "execute_result"
    }
   ],
   "source": [
    "result = getAll(\n",
    "    \"\"\"\n",
    "with tweet_count as (\n",
    "    select count(*)\n",
    "    from tweet\n",
    "    where type = 1)\n",
    "\n",
    "select cast(count(*) as decimal) / (select * from tweet_count) * 100 as \"Procent tweetów z polubieniami\"\n",
    "from tweet\n",
    "where type = 1\n",
    "  and favorite_count > 0;\n",
    "   \"\"\"\n",
    ")\n",
    "\n",
    "print(f'Jaki procent tweetów ma polubienia: {result[\"Procent tweetów z polubieniami\"][0]:.4}%')\n",
    "dfi.export(result,\"images/tweety_z_polubieniami.png\")\n",
    "result"
   ]
  },
  {
   "cell_type": "code",
   "execution_count": 15,
   "metadata": {
    "collapsed": false,
    "jupyter": {
     "outputs_hidden": false
    },
    "pycharm": {
     "name": "#%%\n"
    }
   },
   "outputs": [
    {
     "name": "stdout",
     "output_type": "stream",
     "text": [
      "Jaki procent tweetów ma cytowania: 11.59%\n"
     ]
    },
    {
     "data": {
      "text/html": "<div>\n<style scoped>\n    .dataframe tbody tr th:only-of-type {\n        vertical-align: middle;\n    }\n\n    .dataframe tbody tr th {\n        vertical-align: top;\n    }\n\n    .dataframe thead th {\n        text-align: right;\n    }\n</style>\n<table border=\"1\" class=\"dataframe\">\n  <thead>\n    <tr style=\"text-align: right;\">\n      <th></th>\n      <th>Procent tweetow z cytowaniami</th>\n    </tr>\n  </thead>\n  <tbody>\n    <tr>\n      <th>0</th>\n      <td>11.59022570110666420400</td>\n    </tr>\n  </tbody>\n</table>\n</div>",
      "text/plain": "  Procent tweetow z cytowaniami\n0       11.59022570110666420400"
     },
     "execution_count": 15,
     "metadata": {},
     "output_type": "execute_result"
    }
   ],
   "source": [
    "result = getAll(\n",
    "    \"\"\"\n",
    "with tweet_count as (\n",
    "    select count(*)\n",
    "    from tweet\n",
    "    where type = 1)\n",
    "\n",
    "select cast(count(*) as decimal) / (select * from tweet_count) * 100 as \"Procent tweetow z cytowaniami\"\n",
    "from tweet\n",
    "where type = 1\n",
    "  and quote_count > 0;\n",
    "   \"\"\"\n",
    ")\n",
    "\n",
    "print(f'Jaki procent tweetów ma cytowania: {result[\"Procent tweetow z cytowaniami\"][0]:.4}%')\n",
    "dfi.export(result,\"images/tweety_z_cytowaniami.png\")\n",
    "result"
   ]
  },
  {
   "cell_type": "code",
   "execution_count": 16,
   "metadata": {
    "collapsed": false,
    "jupyter": {
     "outputs_hidden": false
    },
    "pycharm": {
     "name": "#%%\n"
    }
   },
   "outputs": [
    {
     "name": "stdout",
     "output_type": "stream",
     "text": [
      "Jaki procent tweetów ma więcej niż 100 komentarzy: 2.03%\n"
     ]
    },
    {
     "data": {
      "text/html": "<div>\n<style scoped>\n    .dataframe tbody tr th:only-of-type {\n        vertical-align: middle;\n    }\n\n    .dataframe tbody tr th {\n        vertical-align: top;\n    }\n\n    .dataframe thead th {\n        text-align: right;\n    }\n</style>\n<table border=\"1\" class=\"dataframe\">\n  <thead>\n    <tr style=\"text-align: right;\">\n      <th></th>\n      <th>Procent tweetów które mają więcej niż 100 komentarzy</th>\n    </tr>\n  </thead>\n  <tbody>\n    <tr>\n      <th>0</th>\n      <td>2.03212831863789730500</td>\n    </tr>\n  </tbody>\n</table>\n</div>",
      "text/plain": "  Procent tweetów które mają więcej niż 100 komentarzy\n0                             2.03212831863789730500  "
     },
     "execution_count": 16,
     "metadata": {},
     "output_type": "execute_result"
    }
   ],
   "source": [
    "result = getAll(\r\n",
    "    \"\"\"\r\n",
    "with tweet_count as (\r\n",
    "    select count(*)\r\n",
    "    from tweet\r\n",
    "    where type = 1)\r\n",
    "\r\n",
    "select cast(count(*) as decimal) / (select * from tweet_count) * 100 as \"Procent tweetów które mają więcej niż 100 komentarzy\"\r\n",
    "from tweet\r\n",
    "where type = 1\r\n",
    "  and reply_count > 100;\r\n",
    "   \"\"\"\r\n",
    ")\r\n",
    "\r\n",
    "print(f'Jaki procent tweetów ma więcej niż 100 komentarzy: {result[\"Procent tweetów które mają więcej niż 100 komentarzy\"][0]:.3}%')\r\n",
    "# dfi.export(result,\"images/tweety_z_komentarzami_wiecej_niz_100.png\")\r\n",
    "result"
   ]
  },
  {
   "cell_type": "code",
   "execution_count": 17,
   "metadata": {
    "collapsed": false,
    "jupyter": {
     "outputs_hidden": false
    },
    "pycharm": {
     "name": "#%%\n"
    }
   },
   "outputs": [
    {
     "name": "stdout",
     "output_type": "stream",
     "text": [
      "Jaki procent tweetów ma więcej niż 100 retweetów: 3.09%\n"
     ]
    },
    {
     "ename": "UnicodeEncodeError",
     "evalue": "'charmap' codec can't encode character '\\u0105' in position 1241: character maps to <undefined>",
     "output_type": "error",
     "traceback": [
      "\u001b[1;31m---------------------------------------------------------------------------\u001b[0m",
      "\u001b[1;31mUnicodeEncodeError\u001b[0m                        Traceback (most recent call last)",
      "\u001b[1;32m<ipython-input-17-8705d1519e3b>\u001b[0m in \u001b[0;36m<module>\u001b[1;34m\u001b[0m\n\u001b[0;32m     14\u001b[0m \u001b[1;33m\u001b[0m\u001b[0m\n\u001b[0;32m     15\u001b[0m \u001b[0mprint\u001b[0m\u001b[1;33m(\u001b[0m\u001b[1;34mf'Jaki procent tweetów ma więcej niż 100 retweetów: {result[\"Procent tweetów które mają więcej niż 100 retweetów\"][0]:.3}%'\u001b[0m\u001b[1;33m)\u001b[0m\u001b[1;33m\u001b[0m\u001b[1;33m\u001b[0m\u001b[0m\n\u001b[1;32m---> 16\u001b[1;33m \u001b[0mdfi\u001b[0m\u001b[1;33m.\u001b[0m\u001b[0mexport\u001b[0m\u001b[1;33m(\u001b[0m\u001b[0mresult\u001b[0m\u001b[1;33m,\u001b[0m\u001b[1;34m\"images/tweety_z_retweetami_wiecej_niz_100.png\"\u001b[0m\u001b[1;33m)\u001b[0m\u001b[1;33m\u001b[0m\u001b[1;33m\u001b[0m\u001b[0m\n\u001b[0m\u001b[0;32m     17\u001b[0m \u001b[0mresult\u001b[0m\u001b[1;33m\u001b[0m\u001b[1;33m\u001b[0m\u001b[0m\n",
      "\u001b[1;32mc:\\Users\\mleko\\Documents\\studia\\eksploracja\\twitter-posts-analysis\\venv\\lib\\site-packages\\dataframe_image\\_pandas_accessor.py\u001b[0m in \u001b[0;36mexport\u001b[1;34m(obj, filename, fontsize, max_rows, max_cols, table_conversion, chrome_path)\u001b[0m\n\u001b[0;32m     22\u001b[0m def export(obj, filename, fontsize=14, max_rows=None, max_cols=None, \n\u001b[0;32m     23\u001b[0m                table_conversion='chrome', chrome_path=None):\n\u001b[1;32m---> 24\u001b[1;33m         \u001b[1;32mreturn\u001b[0m \u001b[0m_export\u001b[0m\u001b[1;33m(\u001b[0m\u001b[0mobj\u001b[0m\u001b[1;33m,\u001b[0m \u001b[0mfilename\u001b[0m\u001b[1;33m,\u001b[0m \u001b[0mfontsize\u001b[0m\u001b[1;33m,\u001b[0m \u001b[0mmax_rows\u001b[0m\u001b[1;33m,\u001b[0m \u001b[0mmax_cols\u001b[0m\u001b[1;33m,\u001b[0m \u001b[0mtable_conversion\u001b[0m\u001b[1;33m,\u001b[0m \u001b[0mchrome_path\u001b[0m\u001b[1;33m)\u001b[0m\u001b[1;33m\u001b[0m\u001b[1;33m\u001b[0m\u001b[0m\n\u001b[0m\u001b[0;32m     25\u001b[0m \u001b[1;33m\u001b[0m\u001b[0m\n\u001b[0;32m     26\u001b[0m \u001b[1;33m\u001b[0m\u001b[0m\n",
      "\u001b[1;32mc:\\Users\\mleko\\Documents\\studia\\eksploracja\\twitter-posts-analysis\\venv\\lib\\site-packages\\dataframe_image\\_pandas_accessor.py\u001b[0m in \u001b[0;36m_export\u001b[1;34m(obj, filename, fontsize, max_rows, max_cols, table_conversion, chrome_path)\u001b[0m\n\u001b[0;32m     71\u001b[0m         \u001b[0mhtml\u001b[0m \u001b[1;33m=\u001b[0m \u001b[0mobj\u001b[0m\u001b[1;33m.\u001b[0m\u001b[0mto_html\u001b[0m\u001b[1;33m(\u001b[0m\u001b[0mmax_rows\u001b[0m\u001b[1;33m=\u001b[0m\u001b[0mmax_rows\u001b[0m\u001b[1;33m,\u001b[0m \u001b[0mmax_cols\u001b[0m\u001b[1;33m=\u001b[0m\u001b[0mmax_cols\u001b[0m\u001b[1;33m,\u001b[0m \u001b[0mnotebook\u001b[0m\u001b[1;33m=\u001b[0m\u001b[1;32mTrue\u001b[0m\u001b[1;33m)\u001b[0m\u001b[1;33m\u001b[0m\u001b[1;33m\u001b[0m\u001b[0m\n\u001b[0;32m     72\u001b[0m \u001b[1;33m\u001b[0m\u001b[0m\n\u001b[1;32m---> 73\u001b[1;33m     \u001b[0mimg_str\u001b[0m \u001b[1;33m=\u001b[0m \u001b[0mconverter\u001b[0m\u001b[1;33m(\u001b[0m\u001b[0mhtml\u001b[0m\u001b[1;33m)\u001b[0m\u001b[1;33m\u001b[0m\u001b[1;33m\u001b[0m\u001b[0m\n\u001b[0m\u001b[0;32m     74\u001b[0m \u001b[1;33m\u001b[0m\u001b[0m\n\u001b[0;32m     75\u001b[0m     \u001b[1;32mif\u001b[0m \u001b[0misinstance\u001b[0m\u001b[1;33m(\u001b[0m\u001b[0mfilename\u001b[0m\u001b[1;33m,\u001b[0m \u001b[0mstr\u001b[0m\u001b[1;33m)\u001b[0m\u001b[1;33m:\u001b[0m\u001b[1;33m\u001b[0m\u001b[1;33m\u001b[0m\u001b[0m\n",
      "\u001b[1;32mc:\\Users\\mleko\\Documents\\studia\\eksploracja\\twitter-posts-analysis\\venv\\lib\\site-packages\\dataframe_image\\_screenshot.py\u001b[0m in \u001b[0;36mrun\u001b[1;34m(self, html)\u001b[0m\n\u001b[0;32m    165\u001b[0m     \u001b[1;32mdef\u001b[0m \u001b[0mrun\u001b[0m\u001b[1;33m(\u001b[0m\u001b[0mself\u001b[0m\u001b[1;33m,\u001b[0m \u001b[0mhtml\u001b[0m\u001b[1;33m)\u001b[0m\u001b[1;33m:\u001b[0m\u001b[1;33m\u001b[0m\u001b[1;33m\u001b[0m\u001b[0m\n\u001b[0;32m    166\u001b[0m         \u001b[0mself\u001b[0m\u001b[1;33m.\u001b[0m\u001b[0mhtml\u001b[0m \u001b[1;33m=\u001b[0m \u001b[0mself\u001b[0m\u001b[1;33m.\u001b[0m\u001b[0mcss\u001b[0m \u001b[1;33m+\u001b[0m \u001b[0mhtml\u001b[0m\u001b[1;33m\u001b[0m\u001b[1;33m\u001b[0m\u001b[0m\n\u001b[1;32m--> 167\u001b[1;33m         \u001b[0mimg\u001b[0m \u001b[1;33m=\u001b[0m \u001b[0mself\u001b[0m\u001b[1;33m.\u001b[0m\u001b[0mtake_screenshot\u001b[0m\u001b[1;33m(\u001b[0m\u001b[1;33m)\u001b[0m\u001b[1;33m\u001b[0m\u001b[1;33m\u001b[0m\u001b[0m\n\u001b[0m\u001b[0;32m    168\u001b[0m         \u001b[0mimg_str\u001b[0m \u001b[1;33m=\u001b[0m \u001b[0mself\u001b[0m\u001b[1;33m.\u001b[0m\u001b[0mfinalize_image\u001b[0m\u001b[1;33m(\u001b[0m\u001b[0mimg\u001b[0m\u001b[1;33m)\u001b[0m\u001b[1;33m\u001b[0m\u001b[1;33m\u001b[0m\u001b[0m\n\u001b[0;32m    169\u001b[0m         \u001b[1;32mreturn\u001b[0m \u001b[0mimg_str\u001b[0m\u001b[1;33m\u001b[0m\u001b[1;33m\u001b[0m\u001b[0m\n",
      "\u001b[1;32mc:\\Users\\mleko\\Documents\\studia\\eksploracja\\twitter-posts-analysis\\venv\\lib\\site-packages\\dataframe_image\\_screenshot.py\u001b[0m in \u001b[0;36mtake_screenshot\u001b[1;34m(self)\u001b[0m\n\u001b[0;32m     93\u001b[0m         \u001b[0mtemp_img\u001b[0m \u001b[1;33m=\u001b[0m \u001b[0mPath\u001b[0m\u001b[1;33m(\u001b[0m\u001b[0mtemp_dir\u001b[0m\u001b[1;33m.\u001b[0m\u001b[0mname\u001b[0m\u001b[1;33m)\u001b[0m \u001b[1;33m/\u001b[0m \u001b[1;34m\"temp.png\"\u001b[0m\u001b[1;33m\u001b[0m\u001b[1;33m\u001b[0m\u001b[0m\n\u001b[0;32m     94\u001b[0m         \u001b[1;32mwith\u001b[0m \u001b[0mopen\u001b[0m\u001b[1;33m(\u001b[0m\u001b[0mtemp_html\u001b[0m\u001b[1;33m,\u001b[0m \u001b[1;34m\"w\"\u001b[0m\u001b[1;33m)\u001b[0m \u001b[1;32mas\u001b[0m \u001b[0mf\u001b[0m\u001b[1;33m:\u001b[0m\u001b[1;33m\u001b[0m\u001b[1;33m\u001b[0m\u001b[0m\n\u001b[1;32m---> 95\u001b[1;33m             \u001b[0mf\u001b[0m\u001b[1;33m.\u001b[0m\u001b[0mwrite\u001b[0m\u001b[1;33m(\u001b[0m\u001b[0mself\u001b[0m\u001b[1;33m.\u001b[0m\u001b[0mhtml\u001b[0m\u001b[1;33m)\u001b[0m\u001b[1;33m\u001b[0m\u001b[1;33m\u001b[0m\u001b[0m\n\u001b[0m\u001b[0;32m     96\u001b[0m \u001b[1;33m\u001b[0m\u001b[0m\n\u001b[0;32m     97\u001b[0m         \u001b[1;32mwith\u001b[0m \u001b[0mopen\u001b[0m\u001b[1;33m(\u001b[0m\u001b[0mtemp_img\u001b[0m\u001b[1;33m,\u001b[0m \u001b[1;34m\"wb\"\u001b[0m\u001b[1;33m)\u001b[0m \u001b[1;32mas\u001b[0m \u001b[0mf\u001b[0m\u001b[1;33m:\u001b[0m\u001b[1;33m\u001b[0m\u001b[1;33m\u001b[0m\u001b[0m\n",
      "\u001b[1;32m~\\AppData\\Local\\Programs\\Python\\Python39\\lib\\encodings\\cp1252.py\u001b[0m in \u001b[0;36mencode\u001b[1;34m(self, input, final)\u001b[0m\n\u001b[0;32m     17\u001b[0m \u001b[1;32mclass\u001b[0m \u001b[0mIncrementalEncoder\u001b[0m\u001b[1;33m(\u001b[0m\u001b[0mcodecs\u001b[0m\u001b[1;33m.\u001b[0m\u001b[0mIncrementalEncoder\u001b[0m\u001b[1;33m)\u001b[0m\u001b[1;33m:\u001b[0m\u001b[1;33m\u001b[0m\u001b[1;33m\u001b[0m\u001b[0m\n\u001b[0;32m     18\u001b[0m     \u001b[1;32mdef\u001b[0m \u001b[0mencode\u001b[0m\u001b[1;33m(\u001b[0m\u001b[0mself\u001b[0m\u001b[1;33m,\u001b[0m \u001b[0minput\u001b[0m\u001b[1;33m,\u001b[0m \u001b[0mfinal\u001b[0m\u001b[1;33m=\u001b[0m\u001b[1;32mFalse\u001b[0m\u001b[1;33m)\u001b[0m\u001b[1;33m:\u001b[0m\u001b[1;33m\u001b[0m\u001b[1;33m\u001b[0m\u001b[0m\n\u001b[1;32m---> 19\u001b[1;33m         \u001b[1;32mreturn\u001b[0m \u001b[0mcodecs\u001b[0m\u001b[1;33m.\u001b[0m\u001b[0mcharmap_encode\u001b[0m\u001b[1;33m(\u001b[0m\u001b[0minput\u001b[0m\u001b[1;33m,\u001b[0m\u001b[0mself\u001b[0m\u001b[1;33m.\u001b[0m\u001b[0merrors\u001b[0m\u001b[1;33m,\u001b[0m\u001b[0mencoding_table\u001b[0m\u001b[1;33m)\u001b[0m\u001b[1;33m[\u001b[0m\u001b[1;36m0\u001b[0m\u001b[1;33m]\u001b[0m\u001b[1;33m\u001b[0m\u001b[1;33m\u001b[0m\u001b[0m\n\u001b[0m\u001b[0;32m     20\u001b[0m \u001b[1;33m\u001b[0m\u001b[0m\n\u001b[0;32m     21\u001b[0m \u001b[1;32mclass\u001b[0m \u001b[0mIncrementalDecoder\u001b[0m\u001b[1;33m(\u001b[0m\u001b[0mcodecs\u001b[0m\u001b[1;33m.\u001b[0m\u001b[0mIncrementalDecoder\u001b[0m\u001b[1;33m)\u001b[0m\u001b[1;33m:\u001b[0m\u001b[1;33m\u001b[0m\u001b[1;33m\u001b[0m\u001b[0m\n",
      "\u001b[1;31mUnicodeEncodeError\u001b[0m: 'charmap' codec can't encode character '\\u0105' in position 1241: character maps to <undefined>"
     ]
    }
   ],
   "source": [
    "result = getAll(\n",
    "    \"\"\"\n",
    "with tweet_count as (\n",
    "    select count(*)\n",
    "    from tweet\n",
    "    where type = 1)\n",
    "\n",
    "select cast(count(*) as decimal) / (select * from tweet_count) * 100 as \"Procent tweetów które mają więcej niż 100 retweetów\"\n",
    "from tweet\n",
    "where type = 1\n",
    "  and retweet_count > 100;\n",
    "   \"\"\"\n",
    ")\n",
    "\n",
    "print(f'Jaki procent tweetów ma więcej niż 100 retweetów: {result[\"Procent tweetów które mają więcej niż 100 retweetów\"][0]:.3}%')\n",
    "dfi.export(result,\"images/tweety_z_retweetami_wiecej_niz_100.png\")\n",
    "result"
   ]
  },
  {
   "cell_type": "code",
   "execution_count": null,
   "metadata": {
    "collapsed": false,
    "jupyter": {
     "outputs_hidden": false
    },
    "pycharm": {
     "name": "#%%\n"
    }
   },
   "outputs": [
    {
     "name": "stdout",
     "output_type": "stream",
     "text": [
      "Jaki procent tweetów ma więcej niż 100 polubień: 4.80%\n"
     ]
    },
    {
     "data": {
      "text/html": [
       "<div>\n",
       "<style scoped>\n",
       "    .dataframe tbody tr th:only-of-type {\n",
       "        vertical-align: middle;\n",
       "    }\n",
       "\n",
       "    .dataframe tbody tr th {\n",
       "        vertical-align: top;\n",
       "    }\n",
       "\n",
       "    .dataframe thead th {\n",
       "        text-align: right;\n",
       "    }\n",
       "</style>\n",
       "<table border=\"1\" class=\"dataframe\">\n",
       "  <thead>\n",
       "    <tr style=\"text-align: right;\">\n",
       "      <th></th>\n",
       "      <th>Procent tweetów które mają więcej niż 100 polubień</th>\n",
       "    </tr>\n",
       "  </thead>\n",
       "  <tbody>\n",
       "    <tr>\n",
       "      <th>0</th>\n",
       "      <td>4.80413752238152284500</td>\n",
       "    </tr>\n",
       "  </tbody>\n",
       "</table>\n",
       "</div>"
      ],
      "text/plain": [
       "  Procent tweetów które mają więcej niż 100 polubień\n",
       "0                             4.80413752238152284500"
      ]
     },
     "execution_count": 10,
     "metadata": {},
     "output_type": "execute_result"
    }
   ],
   "source": [
    "result = getAll(\n",
    "    \"\"\"\n",
    "with tweet_count as (\n",
    "    select count(*)\n",
    "    from tweet\n",
    "    where type = 1)\n",
    "\n",
    "select cast(count(*) as decimal) / (select * from tweet_count) * 100 as \"Procent tweetów które mają więcej niż 100 polubień\"\n",
    "from tweet\n",
    "where type = 1\n",
    "  and favorite_count > 100;\n",
    "   \"\"\"\n",
    ")\n",
    "\n",
    "print(f'Jaki procent tweetów ma więcej niż 100 polubień: {result[\"Procent tweetów które mają więcej niż 100 polubień\"][0]:.3}%')\n",
    "dfi.export(result,\"images/tweety_z_polubieniami_wiecej_niz_100.png\")\n",
    "result"
   ]
  },
  {
   "cell_type": "code",
   "execution_count": null,
   "metadata": {
    "collapsed": false,
    "jupyter": {
     "outputs_hidden": false
    },
    "pycharm": {
     "name": "#%%\n"
    }
   },
   "outputs": [
    {
     "name": "stdout",
     "output_type": "stream",
     "text": [
      "Jaki procent tweetów ma więcej niż 100 cytowań: 2.07%\n"
     ]
    },
    {
     "data": {
      "text/html": [
       "<div>\n",
       "<style scoped>\n",
       "    .dataframe tbody tr th:only-of-type {\n",
       "        vertical-align: middle;\n",
       "    }\n",
       "\n",
       "    .dataframe tbody tr th {\n",
       "        vertical-align: top;\n",
       "    }\n",
       "\n",
       "    .dataframe thead th {\n",
       "        text-align: right;\n",
       "    }\n",
       "</style>\n",
       "<table border=\"1\" class=\"dataframe\">\n",
       "  <thead>\n",
       "    <tr style=\"text-align: right;\">\n",
       "      <th></th>\n",
       "      <th>Procent tweetów które mają więcej niż 100 cytowań</th>\n",
       "    </tr>\n",
       "  </thead>\n",
       "  <tbody>\n",
       "    <tr>\n",
       "      <th>0</th>\n",
       "      <td>2.06554082776210534500</td>\n",
       "    </tr>\n",
       "  </tbody>\n",
       "</table>\n",
       "</div>"
      ],
      "text/plain": [
       "  Procent tweetów które mają więcej niż 100 cytowań\n",
       "0                            2.06554082776210534500"
      ]
     },
     "execution_count": 11,
     "metadata": {},
     "output_type": "execute_result"
    }
   ],
   "source": [
    "result = getAll(\n",
    "    \"\"\"\n",
    "with tweet_count as (\n",
    "    select count(*)\n",
    "    from tweet\n",
    "    where type = 1)\n",
    "\n",
    "select cast(count(*) as decimal) / (select * from tweet_count) * 100 as \"Procent tweetów które mają więcej niż 100 cytowań\"\n",
    "from tweet\n",
    "where type = 1\n",
    "  and quote_count > 100;\n",
    "   \"\"\"\n",
    ")\n",
    "\n",
    "print(f'Jaki procent tweetów ma więcej niż 100 cytowań: {result[\"Procent tweetów które mają więcej niż 100 cytowań\"][0]:.3}%')\n",
    "dfi.export(result,\"images/tweety_z_cytowaniami_wiecej_niz_100.png\")\n",
    "result\n"
   ]
  },
  {
   "cell_type": "code",
   "execution_count": null,
   "metadata": {
    "collapsed": false,
    "jupyter": {
     "outputs_hidden": false
    },
    "pycharm": {
     "name": "#%%\n"
    }
   },
   "outputs": [],
   "source": []
  },
  {
   "cell_type": "code",
   "execution_count": null,
   "metadata": {
    "collapsed": false,
    "jupyter": {
     "outputs_hidden": false
    },
    "pycharm": {
     "name": "#%%\n"
    }
   },
   "outputs": [],
   "source": []
  }
 ],
 "metadata": {
  "kernelspec": {
   "display_name": "Python 3.9.1 64-bit ('venv': venv)",
   "name": "pythonjvsc74a57bd0392c682ef5e4ce5fd3ec1c9cb31bb72b81668fc5d0a2861032063067139ca666"
  },
  "language_info": {
   "codemirror_mode": {
    "name": "ipython",
    "version": 3
   },
   "file_extension": ".py",
   "mimetype": "text/x-python",
   "name": "python",
   "nbconvert_exporter": "python",
   "pygments_lexer": "ipython3",
   "version": "3.9.1"
  },
  "metadata": {
   "interpreter": {
    "hash": "392c682ef5e4ce5fd3ec1c9cb31bb72b81668fc5d0a2861032063067139ca666"
   }
  },
  "orig_nbformat": 3
 },
 "nbformat": 4,
 "nbformat_minor": 4
}
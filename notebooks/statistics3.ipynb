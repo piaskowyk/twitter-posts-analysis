{
 "cells": [
  {
   "cell_type": "code",
   "execution_count": 1,
   "metadata": {},
   "outputs": [],
   "source": [
    "import psycopg2\n",
    "import psycopg2.extras\n",
    "import matplotlib.pyplot as plt\n",
    "import pandas as pd\n",
    "import numpy as np\n",
    "import math\n",
    "from matplotlib.pyplot import figure\n",
    "import dataframe_image as dfi"
   ]
  },
  {
   "cell_type": "code",
   "execution_count": 2,
   "metadata": {},
   "outputs": [],
   "source": [
    "connection = psycopg2.connect(\r\n",
    "    database=\"postgres\",\r\n",
    "    user=\"postgres\",\r\n",
    "    password=\"password\",\r\n",
    "    host=\"127.0.0.1\",\r\n",
    "    port=\"5432\"\r\n",
    ")\r\n",
    "db = connection.cursor(cursor_factory=psycopg2.extras.RealDictCursor)\r\n"
   ]
  },
  {
   "cell_type": "code",
   "execution_count": 3,
   "metadata": {},
   "outputs": [],
   "source": [
    "def getAll(query):\n",
    "    db.execute(query)\n",
    "    return pd.DataFrame(data=db.fetchall())"
   ]
  },
  {
   "cell_type": "code",
   "execution_count": 4,
   "metadata": {},
   "outputs": [],
   "source": [
    "# userzy którzy pisali same pozytywne tweety\r\n",
    "\r\n",
    "sql1 = \"\"\"\r\n",
    "select u.name as \"Użytkownicy piszący same pozytywne tweety\"\r\n",
    "from \"user\" u\r\n",
    "where u.id not in (select t.user_id\r\n",
    "                   from tweet t\r\n",
    "                   where t.type = 1\r\n",
    "                     and t.sentiment_compound < 0.05);\r\n",
    "\"\"\"\r\n",
    "\r\n",
    "df1 = getAll(sql1)\r\n",
    "dfi.export(df1,\"uzytkownicy-piszacy-same-pozytywne-tweety.png\")\r\n",
    "df1\r\n"
   ]
  },
  {
   "cell_type": "code",
   "execution_count": 1,
   "metadata": {},
   "outputs": [
    {
     "ename": "NameError",
     "evalue": "name 'getAll' is not defined",
     "output_type": "error",
     "traceback": [
      "\u001b[1;31m---------------------------------------------------------------------------\u001b[0m",
      "\u001b[1;31mNameError\u001b[0m                                 Traceback (most recent call last)",
      "\u001b[1;32m<ipython-input-1-90efb2b47d1f>\u001b[0m in \u001b[0;36m<module>\u001b[1;34m\u001b[0m\n\u001b[0;32m     10\u001b[0m \"\"\"\n\u001b[0;32m     11\u001b[0m \u001b[1;33m\u001b[0m\u001b[0m\n\u001b[1;32m---> 12\u001b[1;33m \u001b[0mdf1\u001b[0m \u001b[1;33m=\u001b[0m \u001b[0mgetAll\u001b[0m\u001b[1;33m(\u001b[0m\u001b[0msql1\u001b[0m\u001b[1;33m)\u001b[0m\u001b[1;33m\u001b[0m\u001b[1;33m\u001b[0m\u001b[0m\n\u001b[0m\u001b[0;32m     13\u001b[0m \u001b[0mdfi\u001b[0m\u001b[1;33m.\u001b[0m\u001b[0mexport\u001b[0m\u001b[1;33m(\u001b[0m\u001b[0mdf1\u001b[0m\u001b[1;33m,\u001b[0m\u001b[1;34m\"uzytkownicy-piszacy-same-pozytywne-komentarze.png\"\u001b[0m\u001b[1;33m)\u001b[0m\u001b[1;33m\u001b[0m\u001b[1;33m\u001b[0m\u001b[0m\n\u001b[0;32m     14\u001b[0m \u001b[0mdf1\u001b[0m\u001b[1;33m\u001b[0m\u001b[1;33m\u001b[0m\u001b[0m\n",
      "\u001b[1;31mNameError\u001b[0m: name 'getAll' is not defined"
     ]
    }
   ],
   "source": [
    "#  userzy którzy pisali same pozytywne komentarze\r\n",
    "\r\n",
    "sql1 = \"\"\"\r\n",
    "select u.name as \"Użytkownicy piszący same pozytywne komentarze\"\r\n",
    "from \"user\" u\r\n",
    "where u.id not in (select t.user_id\r\n",
    "                   from tweet t\r\n",
    "                   where t.type = 2\r\n",
    "                     and t.sentiment_compound < 0.05);\r\n",
    "\"\"\"\r\n",
    "\r\n",
    "df1 = getAll(sql1)\r\n",
    "dfi.export(df1,\"uzytkownicy-piszacy-same-pozytywne-komentarze.png\")\r\n",
    "df1\r\n"
   ]
  },
  {
   "cell_type": "code",
   "execution_count": null,
   "metadata": {},
   "outputs": [],
   "source": [
    "#  userzy którzy pisali same negatywne tweety\r\n",
    "\r\n",
    "sql1 = \"\"\"\r\n",
    "select u.name as \"Użytkownicy piszący same negatywne tweety\"\r\n",
    "from \"user\" u\r\n",
    "where u.id not in (select t.user_id\r\n",
    "                   from tweet t\r\n",
    "                   where t.type = 1\r\n",
    "                     and t.sentiment_compound > 0.05);\r\n",
    "\"\"\"\r\n",
    "\r\n",
    "df1 = getAll(sql1)\r\n",
    "dfi.export(df1,\"uzytkownicy-piszacy-same-negatywne-tweety.png\")\r\n",
    "df1\r\n"
   ]
  },
  {
   "cell_type": "code",
   "execution_count": null,
   "metadata": {},
   "outputs": [],
   "source": [
    "#  userzy którzy pisali same negatywne komentarze\n",
    "\n",
    "sql1 = \"\"\"\n",
    "select u.name as \"Użytkownicy piszący same negatywne komentarze\"\n",
    "from \"user\" u\n",
    "where u.id not in (select t.user_id\n",
    "                   from tweet t\n",
    "                   where t.type = 2\n",
    "                     and t.sentiment_compound > 0.05);\n",
    "\"\"\"\n",
    "\n",
    "df1 = getAll(sql1)\n",
    "dfi.export(df1,\"uzytkownicy-piszacy-same-negatywne-komentarze.png\")\n",
    "df1\n"
   ]
  }
 ],
 "metadata": {
  "kernelspec": {
   "display_name": "Python 3.9.1 64-bit ('venv': venv)",
   "name": "pythonjvsc74a57bd0392c682ef5e4ce5fd3ec1c9cb31bb72b81668fc5d0a2861032063067139ca666"
  },
  "language_info": {
   "codemirror_mode": {
    "name": "ipython",
    "version": 3
   },
   "file_extension": ".py",
   "mimetype": "text/x-python",
   "name": "python",
   "nbconvert_exporter": "python",
   "pygments_lexer": "ipython3",
   "version": "3.9.1"
  },
  "metadata": {
   "interpreter": {
    "hash": "392c682ef5e4ce5fd3ec1c9cb31bb72b81668fc5d0a2861032063067139ca666"
   }
  },
  "orig_nbformat": 3
 },
 "nbformat": 4,
 "nbformat_minor": 5
}
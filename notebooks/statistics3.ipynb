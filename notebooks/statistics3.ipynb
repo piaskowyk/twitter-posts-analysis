{
 "cells": [
  {
   "cell_type": "code",
   "execution_count": 1,
   "id": "d363bc0b-f775-4517-a08c-d40c372a90bc",
   "metadata": {},
   "outputs": [],
   "source": [
    "import psycopg2\n",
    "import psycopg2.extras\n",
    "import matplotlib.pyplot as plt\n",
    "import pandas as pd\n",
    "import numpy as np\n",
    "import math\n",
    "from matplotlib.pyplot import figure\n",
    "import dataframe_image as dfi"
   ]
  },
  {
   "cell_type": "code",
   "execution_count": 2,
   "id": "0806af72-5bbb-4d81-bcd3-16c96b06342a",
   "metadata": {},
   "outputs": [],
   "source": [
    "connection = psycopg2.connect(\n",
    "    database=\"root\",\n",
    "    user=\"root\",\n",
    "    password=\"password\",\n",
    "    host=\"127.0.0.1\",\n",
    "    port=\"5440\"\n",
    ")\n",
    "db = connection.cursor(cursor_factory=psycopg2.extras.RealDictCursor)\n"
   ]
  },
  {
   "cell_type": "code",
   "execution_count": 3,
   "id": "b8b45ead-5871-4301-8a26-950d054301ae",
   "metadata": {},
   "outputs": [],
   "source": [
    "def getAll(query):\n",
    "    db.execute(query)\n",
    "    return pd.DataFrame(data=db.fetchall())"
   ]
  },
  {
   "cell_type": "code",
   "execution_count": null,
   "id": "06d4ddf7-2b4c-4962-86ce-a93bd58db032",
   "metadata": {},
   "outputs": [],
   "source": [
    "# userzy którzy pisali same pozytywne tweety\n",
    "\n",
    "sql1 = \"\"\"\n",
    "select u.name as \"Użytkownicy piszący same pozytywne tweety\"\n",
    "from \"user\" u\n",
    "where u.id not in (select t.user_id\n",
    "                   from tweet t\n",
    "                   where t.type = 1\n",
    "                     and t.sentiment_compound < 0.05);\n",
    "\"\"\"\n",
    "\n",
    "df1 = getAll(sql1)\n",
    "dfi.export(df1,\"uzytkownicy-piszacy-same-pozytywne-tweety.png\")\n",
    "df1\n"
   ]
  },
  {
   "cell_type": "code",
   "execution_count": null,
   "id": "90fb6b82-194f-4bf1-9027-5e0371f76684",
   "metadata": {},
   "outputs": [],
   "source": [
    "#  userzy którzy pisali same pozytywne komentarze\n",
    "\n",
    "sql1 = \"\"\"\n",
    "select u.name as \"Użytkownicy piszący same pozytywne komentarze\"\n",
    "from \"user\" u\n",
    "where u.id not in (select t.user_id\n",
    "                   from tweet t\n",
    "                   where t.type = 2\n",
    "                     and t.sentiment_compound < 0.05);\n",
    "\"\"\"\n",
    "\n",
    "df1 = getAll(sql1)\n",
    "dfi.export(df1,\"uzytkownicy-piszacy-same-pozytywne-komentarze.png\")\n",
    "df1\n"
   ]
  },
  {
   "cell_type": "code",
   "execution_count": null,
   "id": "cc134f64-dd1e-44c2-9aaf-bd57fc80da08",
   "metadata": {},
   "outputs": [],
   "source": [
    "#  userzy którzy pisali same negatywne tweety\n",
    "\n",
    "sql1 = \"\"\"\n",
    "select u.name as \"Użytkownicy piszący same negatywne tweety\"\n",
    "from \"user\" u\n",
    "where u.id not in (select t.user_id\n",
    "                   from tweet t\n",
    "                   where t.type = 1\n",
    "                     and t.sentiment_compound > 0.05);\n",
    "\"\"\"\n",
    "\n",
    "df1 = getAll(sql1)\n",
    "dfi.export(df1,\"uzytkownicy-piszacy-same-negatywne-tweety.png\")\n",
    "df1\n"
   ]
  },
  {
   "cell_type": "code",
   "execution_count": null,
   "id": "61e297ff-edab-476b-b67d-551907de32a0",
   "metadata": {},
   "outputs": [],
   "source": [
    "#  userzy którzy pisali same negatywne komentarze\n",
    "\n",
    "sql1 = \"\"\"\n",
    "select u.name as \"Użytkownicy piszący same negatywne komentarze\"\n",
    "from \"user\" u\n",
    "where u.id not in (select t.user_id\n",
    "                   from tweet t\n",
    "                   where t.type = 2\n",
    "                     and t.sentiment_compound > 0.05);\n",
    "\"\"\"\n",
    "\n",
    "df1 = getAll(sql1)\n",
    "dfi.export(df1,\"uzytkownicy-piszacy-same-negatywne-komentarze.png\")\n",
    "df1\n"
   ]
  }
 ],
 "metadata": {
  "kernelspec": {
   "display_name": "Python 3",
   "language": "python",
   "name": "python3"
  },
  "language_info": {
   "codemirror_mode": {
    "name": "ipython",
    "version": 3
   },
   "file_extension": ".py",
   "mimetype": "text/x-python",
   "name": "python",
   "nbconvert_exporter": "python",
   "pygments_lexer": "ipython3",
   "version": "3.8.5"
  }
 },
 "nbformat": 4,
 "nbformat_minor": 5
}
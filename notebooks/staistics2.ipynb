{
 "cells": [
  {
   "cell_type": "code",
   "execution_count": 1,
   "outputs": [],
   "source": [
    "import calendar\n",
    "\n",
    "import psycopg2\n",
    "import psycopg2.extras\n",
    "import matplotlib.pyplot as plt\n",
    "import pandas as pd\n",
    "import numpy as np\n",
    "import math\n",
    "from matplotlib.pyplot import figure"
   ],
   "metadata": {
    "collapsed": false,
    "pycharm": {
     "name": "#%%\n"
    }
   }
  },
  {
   "cell_type": "code",
   "execution_count": 2,
   "outputs": [],
   "source": [
    "connection = psycopg2.connect(\n",
    "    database=\"root\",\n",
    "    user=\"root\",\n",
    "    password=\"password\",\n",
    "    host=\"127.0.0.1\",\n",
    "    port=\"5432\"\n",
    ")\n",
    "db = connection.cursor(cursor_factory=psycopg2.extras.RealDictCursor)"
   ],
   "metadata": {
    "collapsed": false,
    "pycharm": {
     "name": "#%%\n"
    }
   }
  },
  {
   "cell_type": "code",
   "execution_count": 4,
   "outputs": [],
   "source": [
    "def getAll(query):\n",
    "    db.execute(query)\n",
    "    return pd.DataFrame(data=db.fetchall())"
   ],
   "metadata": {
    "collapsed": false,
    "pycharm": {
     "name": "#%%\n"
    }
   }
  },
  {
   "cell_type": "code",
   "execution_count": 23,
   "outputs": [
    {
     "name": "stdout",
     "output_type": "stream",
     "text": [
      "Jaki procent tweetów ma komentarze: 29.69%\n"
     ]
    }
   ],
   "source": [
    "result = getAll(\n",
    "    \"\"\"\n",
    "with tweet_count as (\n",
    "    select count(*)\n",
    "    from tweet\n",
    "    where type = 1)\n",
    "\n",
    "select cast(count(*) as decimal) / (select * from tweet_count) * 100 as \"Procent tweetów\"\n",
    "from tweet\n",
    "where type = 1\n",
    "  and reply_count > 0;\n",
    "   \"\"\"\n",
    ")\n",
    "\n",
    "print(f'Jaki procent tweetów ma komentarze: {result[\"Procent tweetów\"][0]:.4}%')\n"
   ],
   "metadata": {
    "collapsed": false,
    "pycharm": {
     "name": "#%%\n"
    }
   }
  },
  {
   "cell_type": "code",
   "execution_count": 24,
   "outputs": [
    {
     "name": "stdout",
     "output_type": "stream",
     "text": [
      "Jaki procent tweetów ma retweety: 23.52%\n"
     ]
    }
   ],
   "source": [
    "result = getAll(\n",
    "    \"\"\"\n",
    "with tweet_count as (\n",
    "    select count(*)\n",
    "    from tweet\n",
    "    where type = 1)\n",
    "\n",
    "select cast(count(*) as decimal) / (select * from tweet_count) * 100 as \"Procent tweetów\"\n",
    "from tweet\n",
    "where type = 1\n",
    "  and retweet_count > 0;\n",
    "   \"\"\"\n",
    ")\n",
    "\n",
    "print(f'Jaki procent tweetów ma retweety: {result[\"Procent tweetów\"][0]:.4}%')"
   ],
   "metadata": {
    "collapsed": false,
    "pycharm": {
     "name": "#%%\n"
    }
   }
  },
  {
   "cell_type": "code",
   "execution_count": 25,
   "outputs": [
    {
     "name": "stdout",
     "output_type": "stream",
     "text": [
      "Jaki procent tweetów ma polubienia: 49.02%\n"
     ]
    }
   ],
   "source": [
    "result = getAll(\n",
    "    \"\"\"\n",
    "with tweet_count as (\n",
    "    select count(*)\n",
    "    from tweet\n",
    "    where type = 1)\n",
    "\n",
    "select cast(count(*) as decimal) / (select * from tweet_count) * 100 as \"Procent tweetów\"\n",
    "from tweet\n",
    "where type = 1\n",
    "  and favorite_count > 0;\n",
    "   \"\"\"\n",
    ")\n",
    "\n",
    "print(f'Jaki procent tweetów ma polubienia: {result[\"Procent tweetów\"][0]:.4}%')\n"
   ],
   "metadata": {
    "collapsed": false,
    "pycharm": {
     "name": "#%%\n"
    }
   }
  },
  {
   "cell_type": "code",
   "execution_count": 26,
   "outputs": [
    {
     "name": "stdout",
     "output_type": "stream",
     "text": [
      "Jaki procent tweetów ma cytowania: 11.82%\n"
     ]
    }
   ],
   "source": [
    "result = getAll(\n",
    "    \"\"\"\n",
    "with tweet_count as (\n",
    "    select count(*)\n",
    "    from tweet\n",
    "    where type = 1)\n",
    "\n",
    "select cast(count(*) as decimal) / (select * from tweet_count) * 100 as \"Procent tweetów\"\n",
    "from tweet\n",
    "where type = 1\n",
    "  and quote_count > 0;\n",
    "   \"\"\"\n",
    ")\n",
    "\n",
    "print(f'Jaki procent tweetów ma cytowania: {result[\"Procent tweetów\"][0]:.4}%')\n"
   ],
   "metadata": {
    "collapsed": false,
    "pycharm": {
     "name": "#%%\n"
    }
   }
  },
  {
   "cell_type": "code",
   "execution_count": 29,
   "outputs": [
    {
     "name": "stdout",
     "output_type": "stream",
     "text": [
      "Jaki procent tweetów ma więcej niż 100 komentarzy: 2.26%\n"
     ]
    }
   ],
   "source": [
    "result = getAll(\n",
    "    \"\"\"\n",
    "with tweet_count as (\n",
    "    select count(*)\n",
    "    from tweet\n",
    "    where type = 1)\n",
    "\n",
    "select cast(count(*) as decimal) / (select * from tweet_count) * 100 as \"Procent tweetów\"\n",
    "from tweet\n",
    "where type = 1\n",
    "  and reply_count > 100;\n",
    "   \"\"\"\n",
    ")\n",
    "\n",
    "print(f'Jaki procent tweetów ma więcej niż 100 komentarzy: {result[\"Procent tweetów\"][0]:.3}%')"
   ],
   "metadata": {
    "collapsed": false,
    "pycharm": {
     "name": "#%%\n"
    }
   }
  },
  {
   "cell_type": "code",
   "execution_count": 32,
   "outputs": [
    {
     "name": "stdout",
     "output_type": "stream",
     "text": [
      "Jaki procent tweetów ma więcej niż 100 retweetów: 3.34%\n"
     ]
    }
   ],
   "source": [
    "result = getAll(\n",
    "    \"\"\"\n",
    "with tweet_count as (\n",
    "    select count(*)\n",
    "    from tweet\n",
    "    where type = 1)\n",
    "\n",
    "select cast(count(*) as decimal) / (select * from tweet_count) * 100 as \"Procent tweetów\"\n",
    "from tweet\n",
    "where type = 1\n",
    "  and retweet_count > 100;\n",
    "   \"\"\"\n",
    ")\n",
    "\n",
    "print(f'Jaki procent tweetów ma więcej niż 100 retweetów: {result[\"Procent tweetów\"][0]:.3}%')"
   ],
   "metadata": {
    "collapsed": false,
    "pycharm": {
     "name": "#%%\n"
    }
   }
  },
  {
   "cell_type": "code",
   "execution_count": 33,
   "outputs": [
    {
     "name": "stdout",
     "output_type": "stream",
     "text": [
      "Jaki procent tweetów ma więcej niż 100 polubień: 4.80%\n"
     ]
    }
   ],
   "source": [
    "result = getAll(\n",
    "    \"\"\"\n",
    "with tweet_count as (\n",
    "    select count(*)\n",
    "    from tweet\n",
    "    where type = 1)\n",
    "\n",
    "select cast(count(*) as decimal) / (select * from tweet_count) * 100 as \"Procent tweetów\"\n",
    "from tweet\n",
    "where type = 1\n",
    "  and favorite_count > 100;\n",
    "   \"\"\"\n",
    ")\n",
    "\n",
    "print(f'Jaki procent tweetów ma więcej niż 100 polubień: {result[\"Procent tweetów\"][0]:.3}%')\n"
   ],
   "metadata": {
    "collapsed": false,
    "pycharm": {
     "name": "#%%\n"
    }
   }
  },
  {
   "cell_type": "code",
   "execution_count": 34,
   "outputs": [
    {
     "name": "stdout",
     "output_type": "stream",
     "text": [
      "Jaki procent tweetów ma więcej niż 100 cytowań: 2.07%\n"
     ]
    }
   ],
   "source": [
    "result = getAll(\n",
    "    \"\"\"\n",
    "with tweet_count as (\n",
    "    select count(*)\n",
    "    from tweet\n",
    "    where type = 1)\n",
    "\n",
    "select cast(count(*) as decimal) / (select * from tweet_count) * 100 as \"Procent tweetów\"\n",
    "from tweet\n",
    "where type = 1\n",
    "  and quote_count > 100;\n",
    "   \"\"\"\n",
    ")\n",
    "\n",
    "print(f'Jaki procent tweetów ma więcej niż 100 cytowań: {result[\"Procent tweetów\"][0]:.3}%')\n",
    "\n"
   ],
   "metadata": {
    "collapsed": false,
    "pycharm": {
     "name": "#%%\n"
    }
   }
  },
  {
   "cell_type": "code",
   "execution_count": null,
   "outputs": [],
   "source": [],
   "metadata": {
    "collapsed": false,
    "pycharm": {
     "name": "#%%\n"
    }
   }
  }
 ],
 "metadata": {
  "kernelspec": {
   "display_name": "Python 3",
   "language": "python",
   "name": "python3"
  },
  "language_info": {
   "codemirror_mode": {
    "name": "ipython",
    "version": 2
   },
   "file_extension": ".py",
   "mimetype": "text/x-python",
   "name": "python",
   "nbconvert_exporter": "python",
   "pygments_lexer": "ipython2",
   "version": "2.7.6"
  }
 },
 "nbformat": 4,
 "nbformat_minor": 0
}
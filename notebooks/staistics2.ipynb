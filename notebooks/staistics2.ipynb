{
 "cells": [
  {
   "cell_type": "code",
   "execution_count": 30,
   "outputs": [],
   "source": [
    "import calendar\n",
    "\n",
    "import psycopg2\n",
    "import psycopg2.extras\n",
    "import matplotlib.pyplot as plt\n",
    "import pandas as pd\n",
    "import numpy as np\n",
    "import math\n",
    "from matplotlib.pyplot import figure\n",
    "import dataframe_image as dfi"
   ],
   "metadata": {
    "collapsed": false,
    "pycharm": {
     "name": "#%%\n"
    }
   }
  },
  {
   "cell_type": "code",
   "execution_count": 31,
   "outputs": [],
   "source": [
    "connection = psycopg2.connect(\n",
    "    database=\"root\",\n",
    "    user=\"root\",\n",
    "    password=\"password\",\n",
    "    host=\"127.0.0.1\",\n",
    "    port=\"5432\"\n",
    ")\n",
    "db = connection.cursor(cursor_factory=psycopg2.extras.RealDictCursor)"
   ],
   "metadata": {
    "collapsed": false,
    "pycharm": {
     "name": "#%%\n"
    }
   }
  },
  {
   "cell_type": "code",
   "execution_count": 32,
   "outputs": [],
   "source": [
    "def getAll(query):\n",
    "    db.execute(query)\n",
    "    return pd.DataFrame(data=db.fetchall())"
   ],
   "metadata": {
    "collapsed": false,
    "pycharm": {
     "name": "#%%\n"
    }
   }
  },
  {
   "cell_type": "code",
   "execution_count": 33,
   "outputs": [
    {
     "name": "stdout",
     "output_type": "stream",
     "text": [
      "Jaki procent tweetów ma komentarze: 29.69%\n"
     ]
    }
   ],
   "source": [
    "result = getAll(\n",
    "    \"\"\"\n",
    "with tweet_count as (\n",
    "    select count(*)\n",
    "    from tweet\n",
    "    where type = 1)\n",
    "\n",
    "select cast(count(*) as decimal) / (select * from tweet_count) * 100 as \"Procent tweetów z komentarzami\"\n",
    "from tweet\n",
    "where type = 1\n",
    "  and reply_count > 0;\n",
    "   \"\"\"\n",
    ")\n",
    "\n",
    "print(f'Jaki procent tweetów ma komentarze: {result[\"Procent tweetów z komentarzami\"][0]:.4}%')\n"
   ],
   "metadata": {
    "collapsed": false,
    "pycharm": {
     "name": "#%%\n"
    }
   }
  },
  {
   "cell_type": "code",
   "execution_count": 34,
   "outputs": [
    {
     "name": "stdout",
     "output_type": "stream",
     "text": [
      "Jaki procent tweetów ma retweety: 23.52%\n"
     ]
    }
   ],
   "source": [
    "result = getAll(\n",
    "    \"\"\"\n",
    "with tweet_count as (\n",
    "    select count(*)\n",
    "    from tweet\n",
    "    where type = 1)\n",
    "\n",
    "select cast(count(*) as decimal) / (select * from tweet_count) * 100 as \"Procent tweetów z retweetami\"\n",
    "from tweet\n",
    "where type = 1\n",
    "  and retweet_count > 0;\n",
    "   \"\"\"\n",
    ")\n",
    "\n",
    "print(f'Jaki procent tweetów ma retweety: {result[\"Procent tweetów z retweetami\"][0]:.4}%')"
   ],
   "metadata": {
    "collapsed": false,
    "pycharm": {
     "name": "#%%\n"
    }
   }
  },
  {
   "cell_type": "code",
   "execution_count": 35,
   "outputs": [
    {
     "name": "stdout",
     "output_type": "stream",
     "text": [
      "Jaki procent tweetów ma polubienia: 49.02%\n"
     ]
    }
   ],
   "source": [
    "result = getAll(\n",
    "    \"\"\"\n",
    "with tweet_count as (\n",
    "    select count(*)\n",
    "    from tweet\n",
    "    where type = 1)\n",
    "\n",
    "select cast(count(*) as decimal) / (select * from tweet_count) * 100 as \"Procent tweetów z polubieniami\"\n",
    "from tweet\n",
    "where type = 1\n",
    "  and favorite_count > 0;\n",
    "   \"\"\"\n",
    ")\n",
    "\n",
    "print(f'Jaki procent tweetów ma polubienia: {result[\"Procent tweetów z polubieniami\"][0]:.4}%')\n"
   ],
   "metadata": {
    "collapsed": false,
    "pycharm": {
     "name": "#%%\n"
    }
   }
  },
  {
   "cell_type": "code",
   "execution_count": 36,
   "outputs": [
    {
     "name": "stdout",
     "output_type": "stream",
     "text": [
      "Jaki procent tweetów ma cytowania: 11.82%\n"
     ]
    }
   ],
   "source": [
    "result = getAll(\n",
    "    \"\"\"\n",
    "with tweet_count as (\n",
    "    select count(*)\n",
    "    from tweet\n",
    "    where type = 1)\n",
    "\n",
    "select cast(count(*) as decimal) / (select * from tweet_count) * 100 as \"Procent tweetów z cytowaniami\"\n",
    "from tweet\n",
    "where type = 1\n",
    "  and quote_count > 0;\n",
    "   \"\"\"\n",
    ")\n",
    "\n",
    "print(f'Jaki procent tweetów ma cytowania: {result[\"Procent tweetów z cytowaniami\"][0]:.4}%')\n"
   ],
   "metadata": {
    "collapsed": false,
    "pycharm": {
     "name": "#%%\n"
    }
   }
  },
  {
   "cell_type": "code",
   "execution_count": 37,
   "outputs": [
    {
     "name": "stdout",
     "output_type": "stream",
     "text": [
      "Jaki procent tweetów ma więcej niż 100 komentarzy: 2.26%\n"
     ]
    }
   ],
   "source": [
    "result = getAll(\n",
    "    \"\"\"\n",
    "with tweet_count as (\n",
    "    select count(*)\n",
    "    from tweet\n",
    "    where type = 1)\n",
    "\n",
    "select cast(count(*) as decimal) / (select * from tweet_count) * 100 as \"Procent tweetów które mają więcej niż 100 tweetów\"\n",
    "from tweet\n",
    "where type = 1\n",
    "  and reply_count > 100;\n",
    "   \"\"\"\n",
    ")\n",
    "\n",
    "print(f'Jaki procent tweetów ma więcej niż 100 komentarzy: {result[\"Procent tweetów które mają więcej niż 100 tweetów\"][0]:.3}%')"
   ],
   "metadata": {
    "collapsed": false,
    "pycharm": {
     "name": "#%%\n"
    }
   }
  },
  {
   "cell_type": "code",
   "execution_count": 38,
   "outputs": [
    {
     "name": "stdout",
     "output_type": "stream",
     "text": [
      "Jaki procent tweetów ma więcej niż 100 retweetów: 3.34%\n"
     ]
    }
   ],
   "source": [
    "result = getAll(\n",
    "    \"\"\"\n",
    "with tweet_count as (\n",
    "    select count(*)\n",
    "    from tweet\n",
    "    where type = 1)\n",
    "\n",
    "select cast(count(*) as decimal) / (select * from tweet_count) * 100 as \"Procent tweetów które mają więcej niż 100 retweetów\"\n",
    "from tweet\n",
    "where type = 1\n",
    "  and retweet_count > 100;\n",
    "   \"\"\"\n",
    ")\n",
    "\n",
    "print(f'Jaki procent tweetów ma więcej niż 100 retweetów: {result[\"Procent tweetów które mają więcej niż 100 retweetów\"][0]:.3}%')"
   ],
   "metadata": {
    "collapsed": false,
    "pycharm": {
     "name": "#%%\n"
    }
   }
  },
  {
   "cell_type": "code",
   "execution_count": 39,
   "outputs": [
    {
     "name": "stdout",
     "output_type": "stream",
     "text": [
      "Jaki procent tweetów ma więcej niż 100 polubień: 4.80%\n"
     ]
    }
   ],
   "source": [
    "result = getAll(\n",
    "    \"\"\"\n",
    "with tweet_count as (\n",
    "    select count(*)\n",
    "    from tweet\n",
    "    where type = 1)\n",
    "\n",
    "select cast(count(*) as decimal) / (select * from tweet_count) * 100 as \"Procent tweetów które mają więcej niż 100 polubień\"\n",
    "from tweet\n",
    "where type = 1\n",
    "  and favorite_count > 100;\n",
    "   \"\"\"\n",
    ")\n",
    "\n",
    "print(f'Jaki procent tweetów ma więcej niż 100 polubień: {result[\"Procent tweetów które mają więcej niż 100 polubień\"][0]:.3}%')\n"
   ],
   "metadata": {
    "collapsed": false,
    "pycharm": {
     "name": "#%%\n"
    }
   }
  },
  {
   "cell_type": "code",
   "execution_count": 40,
   "outputs": [
    {
     "name": "stdout",
     "output_type": "stream",
     "text": [
      "Jaki procent tweetów ma więcej niż 100 cytowań: 2.07%\n"
     ]
    }
   ],
   "source": [
    "result = getAll(\n",
    "    \"\"\"\n",
    "with tweet_count as (\n",
    "    select count(*)\n",
    "    from tweet\n",
    "    where type = 1)\n",
    "\n",
    "select cast(count(*) as decimal) / (select * from tweet_count) * 100 as \"Procent tweetów które mają więcej niż 100 cytowań\"\n",
    "from tweet\n",
    "where type = 1\n",
    "  and quote_count > 100;\n",
    "   \"\"\"\n",
    ")\n",
    "\n",
    "print(f'Jaki procent tweetów ma więcej niż 100 cytowań: {result[\"Procent tweetów które mają więcej niż 100 cytowań\"][0]:.3}%')\n",
    "\n"
   ],
   "metadata": {
    "collapsed": false,
    "pycharm": {
     "name": "#%%\n"
    }
   }
  },
  {
   "cell_type": "code",
   "execution_count": 40,
   "outputs": [],
   "source": [],
   "metadata": {
    "collapsed": false,
    "pycharm": {
     "name": "#%%\n"
    }
   }
  },
  {
   "cell_type": "code",
   "execution_count": null,
   "outputs": [],
   "source": [],
   "metadata": {
    "collapsed": false,
    "pycharm": {
     "name": "#%%\n"
    }
   }
  }
 ],
 "metadata": {
  "kernelspec": {
   "display_name": "Python 3",
   "language": "python",
   "name": "python3"
  },
  "language_info": {
   "codemirror_mode": {
    "name": "ipython",
    "version": 2
   },
   "file_extension": ".py",
   "mimetype": "text/x-python",
   "name": "python",
   "nbconvert_exporter": "python",
   "pygments_lexer": "ipython2",
   "version": "2.7.6"
  }
 },
 "nbformat": 4,
 "nbformat_minor": 0
}
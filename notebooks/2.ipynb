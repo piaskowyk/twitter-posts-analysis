{
 "cells": [
  {
   "cell_type": "code",
   "execution_count": 37,
   "id": "d363bc0b-f775-4517-a08c-d40c372a90bc",
   "metadata": {},
   "outputs": [],
   "source": [
    "import psycopg2\n",
    "import psycopg2.extras\n",
    "import matplotlib.pyplot as plt\n",
    "import pandas as pd\n",
    "import numpy as np\n",
    "import math\n",
    "from matplotlib.pyplot import figure\n",
    "import dataframe_image as dfi"
   ]
  },
  {
   "cell_type": "code",
   "execution_count": 38,
   "id": "0806af72-5bbb-4d81-bcd3-16c96b06342a",
   "metadata": {},
   "outputs": [],
   "source": [
    "connection = psycopg2.connect(\n",
    "    database=\"root\",\n",
    "    user=\"root\",\n",
    "    password=\"password\",\n",
    "    host=\"127.0.0.1\",\n",
    "    port=\"5432\"\n",
    ")\n",
    "db = connection.cursor(cursor_factory=psycopg2.extras.RealDictCursor)\n"
   ]
  },
  {
   "cell_type": "code",
   "execution_count": 39,
   "id": "b8b45ead-5871-4301-8a26-950d054301ae",
   "metadata": {},
   "outputs": [],
   "source": [
    "def getAll(query):\n",
    "    db.execute(query)\n",
    "    return pd.DataFrame(data=db.fetchall())"
   ]
  },
  {
   "cell_type": "code",
   "execution_count": 40,
   "id": "06d4ddf7-2b4c-4962-86ce-a93bd58db032",
   "metadata": {},
   "outputs": [
    {
     "data": {
      "text/plain": "    Identyfikator tweeta                                       Treść tweeta  \\\n7    1334542969530183683                                   2020 in one word   \n16   1366846908480815106  I just announced Texas is OPEN 100%. \\n\\nEVERY...   \n27   1327254491322675206  Do you personally know anyone that has contrac...   \n28   1340005642006892546  Just received the safe, effective COVID vaccin...   \n30   1279615522284474368  Went into the Emergency Dept. at St Joseph’s H...   \n33   1335006495931510786  Dr. Fauci says Americans should “avoid travel”...   \n36   1329604733712134147  This is harassment pure and simple. This ‘inqu...   \n40   1327597582013632513  Do you personally know anyone that has contrac...   \n42   1250292126643941376  Halting funding for the World Health Organizat...   \n46   1348249481284874240  My message to my fellow Americans and friends ...   \n\n             Nazwa użytkownika  Ilość komentarzy  Sentyment  \n7                      Twitter            117710     0.0000  \n16                 Greg Abbott             88783     0.0000  \n27  Steve | Millionaire Habits             73434    -0.1779  \n28            Leader McConnell             72484     0.7783  \n30             Letitia Montana             71344    -0.7650  \n33             Rep. Jim Jordan             69894     0.6662  \n36                Ivanka Trump             64249    -0.2280  \n40         I Live Now Rachel 💎             63204    -0.1779  \n42                  Bill Gates             62853    -0.8834  \n46                      Arnold             59041     0.0000  ",
      "text/html": "<div>\n<style scoped>\n    .dataframe tbody tr th:only-of-type {\n        vertical-align: middle;\n    }\n\n    .dataframe tbody tr th {\n        vertical-align: top;\n    }\n\n    .dataframe thead th {\n        text-align: right;\n    }\n</style>\n<table border=\"1\" class=\"dataframe\">\n  <thead>\n    <tr style=\"text-align: right;\">\n      <th></th>\n      <th>Identyfikator tweeta</th>\n      <th>Treść tweeta</th>\n      <th>Nazwa użytkownika</th>\n      <th>Ilość komentarzy</th>\n      <th>Sentyment</th>\n    </tr>\n  </thead>\n  <tbody>\n    <tr>\n      <th>7</th>\n      <td>1334542969530183683</td>\n      <td>2020 in one word</td>\n      <td>Twitter</td>\n      <td>117710</td>\n      <td>0.0000</td>\n    </tr>\n    <tr>\n      <th>16</th>\n      <td>1366846908480815106</td>\n      <td>I just announced Texas is OPEN 100%. \\n\\nEVERY...</td>\n      <td>Greg Abbott</td>\n      <td>88783</td>\n      <td>0.0000</td>\n    </tr>\n    <tr>\n      <th>27</th>\n      <td>1327254491322675206</td>\n      <td>Do you personally know anyone that has contrac...</td>\n      <td>Steve | Millionaire Habits</td>\n      <td>73434</td>\n      <td>-0.1779</td>\n    </tr>\n    <tr>\n      <th>28</th>\n      <td>1340005642006892546</td>\n      <td>Just received the safe, effective COVID vaccin...</td>\n      <td>Leader McConnell</td>\n      <td>72484</td>\n      <td>0.7783</td>\n    </tr>\n    <tr>\n      <th>30</th>\n      <td>1279615522284474368</td>\n      <td>Went into the Emergency Dept. at St Joseph’s H...</td>\n      <td>Letitia Montana</td>\n      <td>71344</td>\n      <td>-0.7650</td>\n    </tr>\n    <tr>\n      <th>33</th>\n      <td>1335006495931510786</td>\n      <td>Dr. Fauci says Americans should “avoid travel”...</td>\n      <td>Rep. Jim Jordan</td>\n      <td>69894</td>\n      <td>0.6662</td>\n    </tr>\n    <tr>\n      <th>36</th>\n      <td>1329604733712134147</td>\n      <td>This is harassment pure and simple. This ‘inqu...</td>\n      <td>Ivanka Trump</td>\n      <td>64249</td>\n      <td>-0.2280</td>\n    </tr>\n    <tr>\n      <th>40</th>\n      <td>1327597582013632513</td>\n      <td>Do you personally know anyone that has contrac...</td>\n      <td>I Live Now Rachel 💎</td>\n      <td>63204</td>\n      <td>-0.1779</td>\n    </tr>\n    <tr>\n      <th>42</th>\n      <td>1250292126643941376</td>\n      <td>Halting funding for the World Health Organizat...</td>\n      <td>Bill Gates</td>\n      <td>62853</td>\n      <td>-0.8834</td>\n    </tr>\n    <tr>\n      <th>46</th>\n      <td>1348249481284874240</td>\n      <td>My message to my fellow Americans and friends ...</td>\n      <td>Arnold</td>\n      <td>59041</td>\n      <td>0.0000</td>\n    </tr>\n  </tbody>\n</table>\n</div>"
     },
     "execution_count": 40,
     "metadata": {},
     "output_type": "execute_result"
    }
   ],
   "source": [
    "# top 10 tweetow z najwieksza iloscia komentarzy\n",
    "\n",
    "sql1 = \"\"\"\n",
    "select t.id as \"Identyfikator tweeta\", t.content as \"Treść tweeta\", u.name as \"Nazwa użytkownika\", t.reply_count as \"Ilość komentarzy\", t.sentiment_compound as \"Sentyment\"\n",
    "from tweet t\n",
    "         join \"user\" u on t.user_id = u.id\n",
    "order by reply_count desc\n",
    "limit 100;\n",
    "\n",
    "\n",
    "\"\"\"\n",
    "\n",
    "df1 = getAll(sql1)\n",
    "df1 = df1.loc[~df1['Identyfikator tweeta'].isin(\n",
    "    [1347327743004995585, 1268422690336935943, 1383464956859879426, 1319785379105542149, 1241016789758246914,\n",
    "     1332066698858352641, 1351897267666608129, 1252734369564733440, 1252734369564733440, 1377013699219709960,\n",
    "     1352359178355011586, 1241756665856155648, 1333344528883920896, 1325203148684718086, 1352754599590035459,\n",
    "     1312590918915108866, 1327646530103369728, 1265045009323241472, 1325163241656496133, 1342491135093207044,\n",
    "     1331307848647761925, 1332653290794999808, 1343221417287016448, 1263940112414580739, 1245435715036430336,\n",
    "     1339375759677411328, 1285947226750164993, 1305220707085889536, 1321941986174226432, 1290052238052700161,\n",
    "     1253751812194070529, 1243641803997188096, 1378351326120312836, 1310628020475039745, 1282002456063295490,\n",
    "     1316513615373987840, 1307121192516628480, 1369348492141998081])]\n",
    "df1 = df1.head(10)\n",
    "# dfi.export(df1, \"images/top-10-tweetow-z-najwieksza-iloscia-komentarzy.png\")\n",
    "df1\n"
   ]
  },
  {
   "cell_type": "code",
   "execution_count": 41,
   "id": "3394060b-b14f-4e64-a1a1-29bf9561c6dd",
   "metadata": {},
   "outputs": [
    {
     "data": {
      "text/plain": "    Identyfikator tweeta                                       Treść tweeta  \\\n13   1243427980199641088  I swear we are fighting two pandemics \\nCovid ...   \n15   1240324132723544070  I’m 22 years old and I tested positive for COV...   \n21   1236029449042198528                      The coronavirus panic is dumb   \n23   1239617034901524481  This morning I tested positive for Covid 19. I...   \n26   1238726956180373504  Wasn’t even scared until all the grocery store...   \n28   1340838662452334593  when cоvid is over \"mask off\" will be the #1 s...   \n29   1286789081750474754         I am once again asking you to wear a mask.   \n30   1296337714170798081  Everyone should definitely see this https://t....   \n31   1277211131430535168  I don't think anything I've seen so perfectly ...   \n33   1309142915210506244  I tested negative to Covid yesterday and posit...   \n\n             Nazwa użytkownika  Ilość retweetów  Sentyment  \n13                      Sir Mo           369171    -0.6808  \n15               Bjonda Haliti           338091     0.9072  \n21                   Elon Musk           300402    -0.7650  \n23                  Idris Elba           286931    -0.8360  \n26              Jessica Michel           263489    -0.9194  \n28  ᡕᠵ᠊ᡃ່࡚ࠢ࠘ ⸝່ࠡࠣ᠊߯᠆ࠣ࠘ᡁࠣ࠘᠊᠊ࠢ࠘𐡏           257344     0.0000  \n29              Bernie Sanders           242354     0.0000  \n30                          ᵕ̈           239292     0.4019  \n31           Cassandra of Troy           237812     0.7155  \n33          Zlatan Ibrahimović           234345    -0.3182  ",
      "text/html": "<div>\n<style scoped>\n    .dataframe tbody tr th:only-of-type {\n        vertical-align: middle;\n    }\n\n    .dataframe tbody tr th {\n        vertical-align: top;\n    }\n\n    .dataframe thead th {\n        text-align: right;\n    }\n</style>\n<table border=\"1\" class=\"dataframe\">\n  <thead>\n    <tr style=\"text-align: right;\">\n      <th></th>\n      <th>Identyfikator tweeta</th>\n      <th>Treść tweeta</th>\n      <th>Nazwa użytkownika</th>\n      <th>Ilość retweetów</th>\n      <th>Sentyment</th>\n    </tr>\n  </thead>\n  <tbody>\n    <tr>\n      <th>13</th>\n      <td>1243427980199641088</td>\n      <td>I swear we are fighting two pandemics \\nCovid ...</td>\n      <td>Sir Mo</td>\n      <td>369171</td>\n      <td>-0.6808</td>\n    </tr>\n    <tr>\n      <th>15</th>\n      <td>1240324132723544070</td>\n      <td>I’m 22 years old and I tested positive for COV...</td>\n      <td>Bjonda Haliti</td>\n      <td>338091</td>\n      <td>0.9072</td>\n    </tr>\n    <tr>\n      <th>21</th>\n      <td>1236029449042198528</td>\n      <td>The coronavirus panic is dumb</td>\n      <td>Elon Musk</td>\n      <td>300402</td>\n      <td>-0.7650</td>\n    </tr>\n    <tr>\n      <th>23</th>\n      <td>1239617034901524481</td>\n      <td>This morning I tested positive for Covid 19. I...</td>\n      <td>Idris Elba</td>\n      <td>286931</td>\n      <td>-0.8360</td>\n    </tr>\n    <tr>\n      <th>26</th>\n      <td>1238726956180373504</td>\n      <td>Wasn’t even scared until all the grocery store...</td>\n      <td>Jessica Michel</td>\n      <td>263489</td>\n      <td>-0.9194</td>\n    </tr>\n    <tr>\n      <th>28</th>\n      <td>1340838662452334593</td>\n      <td>when cоvid is over \"mask off\" will be the #1 s...</td>\n      <td>ᡕᠵ᠊ᡃ່࡚ࠢ࠘ ⸝່ࠡࠣ᠊߯᠆ࠣ࠘ᡁࠣ࠘᠊᠊ࠢ࠘𐡏</td>\n      <td>257344</td>\n      <td>0.0000</td>\n    </tr>\n    <tr>\n      <th>29</th>\n      <td>1286789081750474754</td>\n      <td>I am once again asking you to wear a mask.</td>\n      <td>Bernie Sanders</td>\n      <td>242354</td>\n      <td>0.0000</td>\n    </tr>\n    <tr>\n      <th>30</th>\n      <td>1296337714170798081</td>\n      <td>Everyone should definitely see this https://t....</td>\n      <td>ᵕ̈</td>\n      <td>239292</td>\n      <td>0.4019</td>\n    </tr>\n    <tr>\n      <th>31</th>\n      <td>1277211131430535168</td>\n      <td>I don't think anything I've seen so perfectly ...</td>\n      <td>Cassandra of Troy</td>\n      <td>237812</td>\n      <td>0.7155</td>\n    </tr>\n    <tr>\n      <th>33</th>\n      <td>1309142915210506244</td>\n      <td>I tested negative to Covid yesterday and posit...</td>\n      <td>Zlatan Ibrahimović</td>\n      <td>234345</td>\n      <td>-0.3182</td>\n    </tr>\n  </tbody>\n</table>\n</div>"
     },
     "execution_count": 41,
     "metadata": {},
     "output_type": "execute_result"
    }
   ],
   "source": [
    "# top 10 tweetow z najwieksza iloscia retweetow\n",
    "\n",
    "sql1 = \"\"\"\n",
    "select t.id as \"Identyfikator tweeta\", t.content as \"Treść tweeta\", u.name as \"Nazwa użytkownika\", t.retweet_count as \"Ilość retweetów\", t.sentiment_compound as \"Sentyment\"\n",
    "from tweet t\n",
    "         join \"user\" u on t.user_id = u.id\n",
    "order by retweet_count desc\n",
    "limit 100;\n",
    "\"\"\"\n",
    "\n",
    "df1 = getAll(sql1)\n",
    "df1 = df1.loc[~df1['Identyfikator tweeta'].isin(\n",
    "    [1342491135093207044, 1268422690336935943, 1265832328598884352, 1241756665856155648, 1266821069823975430,\n",
    "     1278763679421431809, 1245435715036430336, 1383464956859879426, 1297194550340067328, 1351897267666608129,\n",
    "     1266156916121706502, 1266484584683896832, 1239834212565430278, 1293789401131020288, 1348249481284874240,\n",
    "     1269776351940108288, 1253751812194070529, 1250982321848823810, 1296658338206355457, 1311120831032909825,\n",
    "     1308461763860393984, 1383518691963260933, 1280948407532613633, 1370798098075824132])]\n",
    "df1 = df1.head(10)\n",
    "# dfi.export(df1, \"images/top-10-tweetow-z-najwieksza-iloscia-retweetow.png\")\n",
    "df1\n"
   ]
  },
  {
   "cell_type": "code",
   "execution_count": 42,
   "id": "1a48f145-b797-4f0c-a6a6-2fcaee35bfbc",
   "metadata": {},
   "outputs": [
    {
     "data": {
      "text/plain": "    Identyfikator tweeta                                       Treść tweeta  \\\n16   1366846908480815106  I just announced Texas is OPEN 100%. \\n\\nEVERY...   \n17   1240371160078000128  “If I get corona, I get corona. At the end of ...   \n25   1239617034901524481  This morning I tested positive for Covid 19. I...   \n28   1290497186489348096  .: “Oh, you’re doing death as a proportion of ...   \n33   1328771877360209920  The first case of covid-19 was detected exactl...   \n35   1306068005235896320  Anti-maskers in Florida invade a Target https:...   \n36   1392496742822776839                          💔 https://t.co/cLgDdn70No   \n38   1277710431507922945  Novo vírus da gripe com 'potencial pandêmico' ...   \n39   1293789401131020288  BTS MAP OF THE SOUL ON:E 공연 개최\\n\\n#BTS #방탄소년단 ...   \n43   1280274049877377029  URGENTE: Jair Bolsonaro testa positivo para co...   \n\n       Nazwa użytkownika  Ilość cytowań  Sentyment  \n16           Greg Abbott          93978     0.0000  \n17              CBS News          93549    -0.0803  \n25            Idris Elba          81644    -0.8360  \n28                 Axios          77646    -0.9428  \n33                     📓          72460     0.0000  \n35  Fifty Shades of Whey          70931     0.0000  \n36             Gal Gadot          70327     0.0000  \n38                    G1          66622     0.0000  \n39          BIGHIT MUSIC          66571     0.0000  \n43           Band.com.br          63421     0.0000  ",
      "text/html": "<div>\n<style scoped>\n    .dataframe tbody tr th:only-of-type {\n        vertical-align: middle;\n    }\n\n    .dataframe tbody tr th {\n        vertical-align: top;\n    }\n\n    .dataframe thead th {\n        text-align: right;\n    }\n</style>\n<table border=\"1\" class=\"dataframe\">\n  <thead>\n    <tr style=\"text-align: right;\">\n      <th></th>\n      <th>Identyfikator tweeta</th>\n      <th>Treść tweeta</th>\n      <th>Nazwa użytkownika</th>\n      <th>Ilość cytowań</th>\n      <th>Sentyment</th>\n    </tr>\n  </thead>\n  <tbody>\n    <tr>\n      <th>16</th>\n      <td>1366846908480815106</td>\n      <td>I just announced Texas is OPEN 100%. \\n\\nEVERY...</td>\n      <td>Greg Abbott</td>\n      <td>93978</td>\n      <td>0.0000</td>\n    </tr>\n    <tr>\n      <th>17</th>\n      <td>1240371160078000128</td>\n      <td>“If I get corona, I get corona. At the end of ...</td>\n      <td>CBS News</td>\n      <td>93549</td>\n      <td>-0.0803</td>\n    </tr>\n    <tr>\n      <th>25</th>\n      <td>1239617034901524481</td>\n      <td>This morning I tested positive for Covid 19. I...</td>\n      <td>Idris Elba</td>\n      <td>81644</td>\n      <td>-0.8360</td>\n    </tr>\n    <tr>\n      <th>28</th>\n      <td>1290497186489348096</td>\n      <td>.: “Oh, you’re doing death as a proportion of ...</td>\n      <td>Axios</td>\n      <td>77646</td>\n      <td>-0.9428</td>\n    </tr>\n    <tr>\n      <th>33</th>\n      <td>1328771877360209920</td>\n      <td>The first case of covid-19 was detected exactl...</td>\n      <td>📓</td>\n      <td>72460</td>\n      <td>0.0000</td>\n    </tr>\n    <tr>\n      <th>35</th>\n      <td>1306068005235896320</td>\n      <td>Anti-maskers in Florida invade a Target https:...</td>\n      <td>Fifty Shades of Whey</td>\n      <td>70931</td>\n      <td>0.0000</td>\n    </tr>\n    <tr>\n      <th>36</th>\n      <td>1392496742822776839</td>\n      <td>💔 https://t.co/cLgDdn70No</td>\n      <td>Gal Gadot</td>\n      <td>70327</td>\n      <td>0.0000</td>\n    </tr>\n    <tr>\n      <th>38</th>\n      <td>1277710431507922945</td>\n      <td>Novo vírus da gripe com 'potencial pandêmico' ...</td>\n      <td>G1</td>\n      <td>66622</td>\n      <td>0.0000</td>\n    </tr>\n    <tr>\n      <th>39</th>\n      <td>1293789401131020288</td>\n      <td>BTS MAP OF THE SOUL ON:E 공연 개최\\n\\n#BTS #방탄소년단 ...</td>\n      <td>BIGHIT MUSIC</td>\n      <td>66571</td>\n      <td>0.0000</td>\n    </tr>\n    <tr>\n      <th>43</th>\n      <td>1280274049877377029</td>\n      <td>URGENTE: Jair Bolsonaro testa positivo para co...</td>\n      <td>Band.com.br</td>\n      <td>63421</td>\n      <td>0.0000</td>\n    </tr>\n  </tbody>\n</table>\n</div>"
     },
     "execution_count": 42,
     "metadata": {},
     "output_type": "execute_result"
    }
   ],
   "source": [
    "# top 10 tweetow z najwieksza iloscia cytowan\n",
    "\n",
    "sql1 = \"\"\"\n",
    "select t.id as \"Identyfikator tweeta\", t.content as \"Treść tweeta\", u.name as \"Nazwa użytkownika\", t.quote_count as \"Ilość cytowań\", t.sentiment_compound as \"Sentyment\"\n",
    "from tweet t\n",
    "         join \"user\" u on t.user_id = u.id\n",
    "order by quote_count desc\n",
    "limit 100;\n",
    "\n",
    "\"\"\"\n",
    "\n",
    "df1 = getAll(sql1)\n",
    "df1 = df1.loc[~df1['Identyfikator tweeta'].isin(\n",
    "    [1318523009829904384, 1241016789758246914, 1300470306503626753, 1332805215142047744, 1244498414970101761,\n",
    "     1334188323980632066, 1299785223111147520, 1352048723895832576, 1347684877634838528, 1325936220065640449,\n",
    "     1278763679421431809, 1334542969530183683, 1326451561782943744, 1237688602454343680, 1302697208735653894,\n",
    "     1321941986174226432, 1326132502344372226, 1335197374340337664, 1285236694883561472, 1329113457694830597,\n",
    "     1323739504046465025, 1268422690336935943, 1348249481284874240, 1369348492141998081, 1273416410283290625,\n",
    "     1379042044614688775, 1264965252866641920, 1290675854767513600, 1384650781672939521, 1321128432370176002,\n",
    "     1307099466449776640, 1356793595550924805, 1348388601118273537, 1337174593639829507])]\n",
    "df1 = df1.head(10)\n",
    "# dfi.export(df1,\"images/top_10_tweetow_z_najwieksza_iloscia_cytowan.png\")\n",
    "df1\n"
   ]
  },
  {
   "cell_type": "code",
   "execution_count": 43,
   "id": "3ff7ea67-0380-4be1-ba25-0a164020ac06",
   "metadata": {},
   "outputs": [
    {
     "data": {
      "text/plain": "    Identyfikator tweeta                                       Treść tweeta  \\\n11   1236029449042198528                      The coronavirus panic is dumb   \n13   1340838662452334593  when cоvid is over \"mask off\" will be the #1 s...   \n15   1339224471731843073  My boyfriend got his covid vaccine yesterday a...   \n18   1239617034901524481  This morning I tested positive for Covid 19. I...   \n19   1243427980199641088  I swear we are fighting two pandemics \\nCovid ...   \n22   1286789081750474754         I am once again asking you to wear a mask.   \n23   1348249481284874240  My message to my fellow Americans and friends ...   \n25   1312915126215864320  My father died of Covid alone in a hospital. I...   \n26   1309142915210506244  I tested negative to Covid yesterday and posit...   \n27   1238726956180373504  Wasn’t even scared until all the grocery store...   \n\n             Nazwa użytkownika  Ilość polubień  Sentyment  \n11                   Elon Musk         1590373    -0.7650  \n13  ᡕᠵ᠊ᡃ່࡚ࠢ࠘ ⸝່ࠡࠣ᠊߯᠆ࠣ࠘ᡁࠣ࠘᠊᠊ࠢ࠘𐡏         1547656     0.0000  \n15                  Emaperidol         1469843    -0.0276  \n18                  Idris Elba         1268070    -0.8360  \n19                      Sir Mo         1260116    -0.6808  \n22              Bernie Sanders         1224361     0.0000  \n23                      Arnold         1217114     0.0000  \n25            Curtis Armstrong         1196563    -0.8860  \n26          Zlatan Ibrahimović         1186424    -0.3182  \n27              Jessica Michel         1166155    -0.9194  ",
      "text/html": "<div>\n<style scoped>\n    .dataframe tbody tr th:only-of-type {\n        vertical-align: middle;\n    }\n\n    .dataframe tbody tr th {\n        vertical-align: top;\n    }\n\n    .dataframe thead th {\n        text-align: right;\n    }\n</style>\n<table border=\"1\" class=\"dataframe\">\n  <thead>\n    <tr style=\"text-align: right;\">\n      <th></th>\n      <th>Identyfikator tweeta</th>\n      <th>Treść tweeta</th>\n      <th>Nazwa użytkownika</th>\n      <th>Ilość polubień</th>\n      <th>Sentyment</th>\n    </tr>\n  </thead>\n  <tbody>\n    <tr>\n      <th>11</th>\n      <td>1236029449042198528</td>\n      <td>The coronavirus panic is dumb</td>\n      <td>Elon Musk</td>\n      <td>1590373</td>\n      <td>-0.7650</td>\n    </tr>\n    <tr>\n      <th>13</th>\n      <td>1340838662452334593</td>\n      <td>when cоvid is over \"mask off\" will be the #1 s...</td>\n      <td>ᡕᠵ᠊ᡃ່࡚ࠢ࠘ ⸝່ࠡࠣ᠊߯᠆ࠣ࠘ᡁࠣ࠘᠊᠊ࠢ࠘𐡏</td>\n      <td>1547656</td>\n      <td>0.0000</td>\n    </tr>\n    <tr>\n      <th>15</th>\n      <td>1339224471731843073</td>\n      <td>My boyfriend got his covid vaccine yesterday a...</td>\n      <td>Emaperidol</td>\n      <td>1469843</td>\n      <td>-0.0276</td>\n    </tr>\n    <tr>\n      <th>18</th>\n      <td>1239617034901524481</td>\n      <td>This morning I tested positive for Covid 19. I...</td>\n      <td>Idris Elba</td>\n      <td>1268070</td>\n      <td>-0.8360</td>\n    </tr>\n    <tr>\n      <th>19</th>\n      <td>1243427980199641088</td>\n      <td>I swear we are fighting two pandemics \\nCovid ...</td>\n      <td>Sir Mo</td>\n      <td>1260116</td>\n      <td>-0.6808</td>\n    </tr>\n    <tr>\n      <th>22</th>\n      <td>1286789081750474754</td>\n      <td>I am once again asking you to wear a mask.</td>\n      <td>Bernie Sanders</td>\n      <td>1224361</td>\n      <td>0.0000</td>\n    </tr>\n    <tr>\n      <th>23</th>\n      <td>1348249481284874240</td>\n      <td>My message to my fellow Americans and friends ...</td>\n      <td>Arnold</td>\n      <td>1217114</td>\n      <td>0.0000</td>\n    </tr>\n    <tr>\n      <th>25</th>\n      <td>1312915126215864320</td>\n      <td>My father died of Covid alone in a hospital. I...</td>\n      <td>Curtis Armstrong</td>\n      <td>1196563</td>\n      <td>-0.8860</td>\n    </tr>\n    <tr>\n      <th>26</th>\n      <td>1309142915210506244</td>\n      <td>I tested negative to Covid yesterday and posit...</td>\n      <td>Zlatan Ibrahimović</td>\n      <td>1186424</td>\n      <td>-0.3182</td>\n    </tr>\n    <tr>\n      <th>27</th>\n      <td>1238726956180373504</td>\n      <td>Wasn’t even scared until all the grocery store...</td>\n      <td>Jessica Michel</td>\n      <td>1166155</td>\n      <td>-0.9194</td>\n    </tr>\n  </tbody>\n</table>\n</div>"
     },
     "execution_count": 43,
     "metadata": {},
     "output_type": "execute_result"
    }
   ],
   "source": [
    "# top 10 tweetow z najwieksza iloscia polubien\n",
    "\n",
    "sql1 = \"\"\"\n",
    "select t.id as \"Identyfikator tweeta\", t.content as \"Treść tweeta\", u.name as \"Nazwa użytkownika\", t.favorite_count as \"Ilość polubień\", t.sentiment_compound as \"Sentyment\"\n",
    "from tweet t\n",
    "         join \"user\" u on t.user_id = u.id\n",
    "order by favorite_count desc\n",
    "limit 100;\n",
    "\"\"\"\n",
    "\n",
    "df1 = getAll(sql1)\n",
    "df1 = df1.loc[~df1['Identyfikator tweeta'].isin(\n",
    "    [1351897267666608129, 1266821069823975430, 1265832328598884352, 1278763679421431809, 1383464956859879426,\n",
    "     1268422690336935943, 1331363238487977985, 1311120831032909825, 1266484584683896832, 1331307848647761925,\n",
    "     1253751812194070529, 1266156916121706502, 1325890910635384839, 1370798098075824132, 1239834212565430278,\n",
    "     1332069642534146048, 1280948407532613633, 1267642032077656070])]\n",
    "df1 = df1.head(10)\n",
    "# dfi.export(df1, \"images/top-10-tweetow-z-najwieksza-iloscia-polubien.png\")\n",
    "df1\n"
   ]
  },
  {
   "cell_type": "code",
   "execution_count": 45,
   "id": "14842d14-6a55-468e-a82e-067c4aa9076c",
   "metadata": {},
   "outputs": [
    {
     "data": {
      "text/plain": "  Nazwa użytkownika  Liczba polubień pod tweetami\n0         Joe Biden                       4182385\n1    Andy Milonakis                       3676365\n2        King Myle$                       2806770\n3           Twitter                       2778940\n4             방탄소년단                       2309729\n5             방탄소년단                       2144256\n6           brianna                       1983056\n7         Joe Biden                       1827525\n8           HotGyal                       1770093\n9         Joe Biden                       1669532",
      "text/html": "<div>\n<style scoped>\n    .dataframe tbody tr th:only-of-type {\n        vertical-align: middle;\n    }\n\n    .dataframe tbody tr th {\n        vertical-align: top;\n    }\n\n    .dataframe thead th {\n        text-align: right;\n    }\n</style>\n<table border=\"1\" class=\"dataframe\">\n  <thead>\n    <tr style=\"text-align: right;\">\n      <th></th>\n      <th>Nazwa użytkownika</th>\n      <th>Liczba polubień pod tweetami</th>\n    </tr>\n  </thead>\n  <tbody>\n    <tr>\n      <th>0</th>\n      <td>Joe Biden</td>\n      <td>4182385</td>\n    </tr>\n    <tr>\n      <th>1</th>\n      <td>Andy Milonakis</td>\n      <td>3676365</td>\n    </tr>\n    <tr>\n      <th>2</th>\n      <td>King Myle$</td>\n      <td>2806770</td>\n    </tr>\n    <tr>\n      <th>3</th>\n      <td>Twitter</td>\n      <td>2778940</td>\n    </tr>\n    <tr>\n      <th>4</th>\n      <td>방탄소년단</td>\n      <td>2309729</td>\n    </tr>\n    <tr>\n      <th>5</th>\n      <td>방탄소년단</td>\n      <td>2144256</td>\n    </tr>\n    <tr>\n      <th>6</th>\n      <td>brianna</td>\n      <td>1983056</td>\n    </tr>\n    <tr>\n      <th>7</th>\n      <td>Joe Biden</td>\n      <td>1827525</td>\n    </tr>\n    <tr>\n      <th>8</th>\n      <td>HotGyal</td>\n      <td>1770093</td>\n    </tr>\n    <tr>\n      <th>9</th>\n      <td>Joe Biden</td>\n      <td>1669532</td>\n    </tr>\n  </tbody>\n</table>\n</div>"
     },
     "execution_count": 45,
     "metadata": {},
     "output_type": "execute_result"
    }
   ],
   "source": [
    "# top 10 userow którzy otrzymali najwięcej polubień pod swoimi tweetami\n",
    "\n",
    "sql1 = \"\"\"\n",
    "select u.name as \"Nazwa użytkownika\", t.favorite_count as \"Liczba polubień pod tweetami\"\n",
    "from \"user\" u\n",
    "         join tweet t on u.id = t.user_id\n",
    "where t.type = 1\n",
    "order by t.favorite_count desc\n",
    "limit 10;\n",
    "\n",
    "\"\"\"\n",
    "\n",
    "df1 = getAll(sql1)\n",
    "# dfi.export(df1, \"images/top-10-userow-ktorzy-otrzymali-najwiecej-polubien-pod-swoimi-tweetami.png\")\n",
    "df1\n"
   ]
  },
  {
   "cell_type": "code",
   "execution_count": 46,
   "id": "29de7e81-d63b-4c27-8d9f-613780ccf6d3",
   "metadata": {},
   "outputs": [
    {
     "data": {
      "text/plain": "    Nazwa użytkownika  Liczba polubień pod komentarzami\n0        Taylor Swift                            749924\n1           Oh Really                            675613\n2           Joe Biden                            441022\n3        Steve Martin                            418737\n4  Borzou Daragahi 🖊🗒                            415681\n5             brielle                            379379\n6              Jasmyn                            330622\n7               katie                            320768\n8        Stephen King                            182498\n9       Rex Chapman🏇🏼                            173100",
      "text/html": "<div>\n<style scoped>\n    .dataframe tbody tr th:only-of-type {\n        vertical-align: middle;\n    }\n\n    .dataframe tbody tr th {\n        vertical-align: top;\n    }\n\n    .dataframe thead th {\n        text-align: right;\n    }\n</style>\n<table border=\"1\" class=\"dataframe\">\n  <thead>\n    <tr style=\"text-align: right;\">\n      <th></th>\n      <th>Nazwa użytkownika</th>\n      <th>Liczba polubień pod komentarzami</th>\n    </tr>\n  </thead>\n  <tbody>\n    <tr>\n      <th>0</th>\n      <td>Taylor Swift</td>\n      <td>749924</td>\n    </tr>\n    <tr>\n      <th>1</th>\n      <td>Oh Really</td>\n      <td>675613</td>\n    </tr>\n    <tr>\n      <th>2</th>\n      <td>Joe Biden</td>\n      <td>441022</td>\n    </tr>\n    <tr>\n      <th>3</th>\n      <td>Steve Martin</td>\n      <td>418737</td>\n    </tr>\n    <tr>\n      <th>4</th>\n      <td>Borzou Daragahi 🖊🗒</td>\n      <td>415681</td>\n    </tr>\n    <tr>\n      <th>5</th>\n      <td>brielle</td>\n      <td>379379</td>\n    </tr>\n    <tr>\n      <th>6</th>\n      <td>Jasmyn</td>\n      <td>330622</td>\n    </tr>\n    <tr>\n      <th>7</th>\n      <td>katie</td>\n      <td>320768</td>\n    </tr>\n    <tr>\n      <th>8</th>\n      <td>Stephen King</td>\n      <td>182498</td>\n    </tr>\n    <tr>\n      <th>9</th>\n      <td>Rex Chapman🏇🏼</td>\n      <td>173100</td>\n    </tr>\n  </tbody>\n</table>\n</div>"
     },
     "execution_count": 46,
     "metadata": {},
     "output_type": "execute_result"
    }
   ],
   "source": [
    "# top 10 userow którzy otrzymali najwięcej polubień pod swoimi komentarzami\n",
    "\n",
    "sql1 = \"\"\"\n",
    "select u.name as \"Nazwa użytkownika\", t.favorite_count as \"Liczba polubień pod komentarzami\"\n",
    "from \"user\" u\n",
    "         join tweet t on u.id = t.user_id\n",
    "where t.type = 2\n",
    "order by t.favorite_count desc\n",
    "limit 10;\n",
    "\n",
    "\n",
    "\"\"\"\n",
    "\n",
    "df1 = getAll(sql1)\n",
    "# dfi.export(df1, \"images/top-10-userow-ktorzy-otrzymali-najwiecej-polubien-pod-swoimi-komentarzami.png\")\n",
    "df1\n"
   ]
  },
  {
   "cell_type": "code",
   "execution_count": null,
   "id": "4275fd3a-ff2a-4b1e-95c0-73bfc97fce07",
   "metadata": {},
   "outputs": [],
   "source": []
  }
 ],
 "metadata": {
  "kernelspec": {
   "display_name": "Python 3",
   "language": "python",
   "name": "python3"
  },
  "language_info": {
   "codemirror_mode": {
    "name": "ipython",
    "version": 3
   },
   "file_extension": ".py",
   "mimetype": "text/x-python",
   "name": "python",
   "nbconvert_exporter": "python",
   "pygments_lexer": "ipython3",
   "version": "3.8.5"
  }
 },
 "nbformat": 4,
 "nbformat_minor": 5
}